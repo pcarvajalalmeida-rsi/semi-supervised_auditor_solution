{
 "cells": [
  {
   "cell_type": "markdown",
   "id": "01a7a036-6580-4039-8aa8-7a1b571404bf",
   "metadata": {},
   "source": [
    "# Supervised model for Audit Scoring"
   ]
  },
  {
   "cell_type": "code",
   "execution_count": 43,
   "id": "1ba0317b-f0ab-434b-ae5d-4676ab115ad3",
   "metadata": {
    "tags": []
   },
   "outputs": [],
   "source": [
    "#%load_ext autoreload"
   ]
  },
  {
   "cell_type": "code",
   "execution_count": 2,
   "id": "87a7e817-9c4a-4248-8086-16b0da6314e1",
   "metadata": {
    "tags": []
   },
   "outputs": [],
   "source": [
    "%autoreload 2\n",
    "%aimport audit_functions"
   ]
  },
  {
   "cell_type": "code",
   "execution_count": 102,
   "id": "0f338cb1-518b-464b-95d1-2fb981e07a70",
   "metadata": {},
   "outputs": [],
   "source": [
    "import pandas as pd\n",
    "import numpy as np\n",
    "\n",
    "from sklearn.linear_model import LogisticRegression\n",
    "from sklearn.model_selection import train_test_split\n",
    "from sklearn.metrics import accuracy_score\n",
    "from dstools.mlutils.corp_tax_audit_unsupervised import add_abs_diffs\n",
    "from sklearn.metrics import classification_report\n",
    "from sklearn.svm import SVC\n",
    "from imblearn.over_sampling import RandomOverSampler\n",
    "from sklearn.metrics import balanced_accuracy_score, confusion_matrix\n",
    "from imblearn.metrics import classification_report_imbalanced\n",
    "from sklearn.metrics import precision_score, recall_score"
   ]
  },
  {
   "cell_type": "code",
   "execution_count": 2,
   "id": "eca84af1-4b34-40ec-b808-21b9168ca797",
   "metadata": {},
   "outputs": [],
   "source": [
    "%store -r q_industries\n",
    "%store -r q_audit_data_combined"
   ]
  },
  {
   "cell_type": "code",
   "execution_count": 3,
   "id": "281e55c1-0b27-4aaa-86a6-9d9884be9949",
   "metadata": {},
   "outputs": [
    {
     "data": {
      "text/html": [
       "<div>\n",
       "<style scoped>\n",
       "    .dataframe tbody tr th:only-of-type {\n",
       "        vertical-align: middle;\n",
       "    }\n",
       "\n",
       "    .dataframe tbody tr th {\n",
       "        vertical-align: top;\n",
       "    }\n",
       "\n",
       "    .dataframe thead th {\n",
       "        text-align: right;\n",
       "    }\n",
       "</style>\n",
       "<table border=\"1\" class=\"dataframe\">\n",
       "  <thead>\n",
       "    <tr style=\"text-align: right;\">\n",
       "      <th></th>\n",
       "      <th>index</th>\n",
       "      <th>naics2</th>\n",
       "      <th>business_id</th>\n",
       "      <th>bus_loc_id</th>\n",
       "      <th>naics_code</th>\n",
       "      <th>business_legal_name</th>\n",
       "      <th>maxNumLoc</th>\n",
       "      <th>tax_period_cd</th>\n",
       "      <th>obl_type_id</th>\n",
       "      <th>sumsum_gross</th>\n",
       "      <th>...</th>\n",
       "      <th>4D_eff_tax%_perc_glob</th>\n",
       "      <th>4D_deduc2income_perc_glob</th>\n",
       "      <th>4D_eff_tax_perc_ind</th>\n",
       "      <th>4D_deduc2income_perc_ind</th>\n",
       "      <th>k-cluster_ind</th>\n",
       "      <th>k-cluster_g</th>\n",
       "      <th>sumsum_gross_perc_glob</th>\n",
       "      <th>sumsum_gross_perc_ind</th>\n",
       "      <th>is_ccluster_ind</th>\n",
       "      <th>is_ccluster_g</th>\n",
       "    </tr>\n",
       "    <tr>\n",
       "      <th>date</th>\n",
       "      <th></th>\n",
       "      <th></th>\n",
       "      <th></th>\n",
       "      <th></th>\n",
       "      <th></th>\n",
       "      <th></th>\n",
       "      <th></th>\n",
       "      <th></th>\n",
       "      <th></th>\n",
       "      <th></th>\n",
       "      <th></th>\n",
       "      <th></th>\n",
       "      <th></th>\n",
       "      <th></th>\n",
       "      <th></th>\n",
       "      <th></th>\n",
       "      <th></th>\n",
       "      <th></th>\n",
       "      <th></th>\n",
       "      <th></th>\n",
       "      <th></th>\n",
       "    </tr>\n",
       "  </thead>\n",
       "  <tbody>\n",
       "    <tr>\n",
       "      <th>2001Q1</th>\n",
       "      <td>0</td>\n",
       "      <td>22</td>\n",
       "      <td>109874</td>\n",
       "      <td>110874</td>\n",
       "      <td>221122</td>\n",
       "      <td>ISLAND UTILITY COMPANY</td>\n",
       "      <td>1</td>\n",
       "      <td>Q</td>\n",
       "      <td>10</td>\n",
       "      <td>16193.58</td>\n",
       "      <td>...</td>\n",
       "      <td>0.500045</td>\n",
       "      <td>0.500000</td>\n",
       "      <td>0.545455</td>\n",
       "      <td>0.545455</td>\n",
       "      <td>0.0</td>\n",
       "      <td>1</td>\n",
       "      <td>0.085914</td>\n",
       "      <td>0.090909</td>\n",
       "      <td>1</td>\n",
       "      <td>1</td>\n",
       "    </tr>\n",
       "    <tr>\n",
       "      <th>2001Q2</th>\n",
       "      <td>1</td>\n",
       "      <td>22</td>\n",
       "      <td>109874</td>\n",
       "      <td>110874</td>\n",
       "      <td>221122</td>\n",
       "      <td>ISLAND UTILITY COMPANY</td>\n",
       "      <td>1</td>\n",
       "      <td>Q</td>\n",
       "      <td>10</td>\n",
       "      <td>158968.92</td>\n",
       "      <td>...</td>\n",
       "      <td>0.500184</td>\n",
       "      <td>0.499954</td>\n",
       "      <td>0.545455</td>\n",
       "      <td>0.545455</td>\n",
       "      <td>0.0</td>\n",
       "      <td>1</td>\n",
       "      <td>0.586863</td>\n",
       "      <td>0.636364</td>\n",
       "      <td>1</td>\n",
       "      <td>1</td>\n",
       "    </tr>\n",
       "    <tr>\n",
       "      <th>2001Q3</th>\n",
       "      <td>2</td>\n",
       "      <td>22</td>\n",
       "      <td>109874</td>\n",
       "      <td>110874</td>\n",
       "      <td>221122</td>\n",
       "      <td>ISLAND UTILITY COMPANY</td>\n",
       "      <td>1</td>\n",
       "      <td>Q</td>\n",
       "      <td>10</td>\n",
       "      <td>95335.05</td>\n",
       "      <td>...</td>\n",
       "      <td>0.500093</td>\n",
       "      <td>0.500047</td>\n",
       "      <td>0.545455</td>\n",
       "      <td>0.545455</td>\n",
       "      <td>0.0</td>\n",
       "      <td>1</td>\n",
       "      <td>0.467638</td>\n",
       "      <td>0.545455</td>\n",
       "      <td>1</td>\n",
       "      <td>1</td>\n",
       "    </tr>\n",
       "    <tr>\n",
       "      <th>2001Q4</th>\n",
       "      <td>3</td>\n",
       "      <td>22</td>\n",
       "      <td>109874</td>\n",
       "      <td>110874</td>\n",
       "      <td>221122</td>\n",
       "      <td>ISLAND UTILITY COMPANY</td>\n",
       "      <td>1</td>\n",
       "      <td>Q</td>\n",
       "      <td>10</td>\n",
       "      <td>36138.27</td>\n",
       "      <td>...</td>\n",
       "      <td>0.499573</td>\n",
       "      <td>0.500190</td>\n",
       "      <td>0.545455</td>\n",
       "      <td>0.545455</td>\n",
       "      <td>1.0</td>\n",
       "      <td>2</td>\n",
       "      <td>0.241137</td>\n",
       "      <td>0.181818</td>\n",
       "      <td>0</td>\n",
       "      <td>0</td>\n",
       "    </tr>\n",
       "    <tr>\n",
       "      <th>2002Q1</th>\n",
       "      <td>4</td>\n",
       "      <td>22</td>\n",
       "      <td>109874</td>\n",
       "      <td>110874</td>\n",
       "      <td>221122</td>\n",
       "      <td>ISLAND UTILITY COMPANY</td>\n",
       "      <td>1</td>\n",
       "      <td>Q</td>\n",
       "      <td>10</td>\n",
       "      <td>7334.92</td>\n",
       "      <td>...</td>\n",
       "      <td>0.804250</td>\n",
       "      <td>0.498629</td>\n",
       "      <td>0.545455</td>\n",
       "      <td>0.590909</td>\n",
       "      <td>0.0</td>\n",
       "      <td>1</td>\n",
       "      <td>0.023600</td>\n",
       "      <td>0.090909</td>\n",
       "      <td>1</td>\n",
       "      <td>1</td>\n",
       "    </tr>\n",
       "  </tbody>\n",
       "</table>\n",
       "<p>5 rows × 31 columns</p>\n",
       "</div>"
      ],
      "text/plain": [
       "        index naics2 business_id  bus_loc_id naics_code  \\\n",
       "date                                                      \n",
       "2001Q1      0     22      109874      110874     221122   \n",
       "2001Q2      1     22      109874      110874     221122   \n",
       "2001Q3      2     22      109874      110874     221122   \n",
       "2001Q4      3     22      109874      110874     221122   \n",
       "2002Q1      4     22      109874      110874     221122   \n",
       "\n",
       "           business_legal_name  maxNumLoc tax_period_cd  obl_type_id  \\\n",
       "date                                                                   \n",
       "2001Q1  ISLAND UTILITY COMPANY          1            Q            10   \n",
       "2001Q2  ISLAND UTILITY COMPANY          1            Q            10   \n",
       "2001Q3  ISLAND UTILITY COMPANY          1            Q            10   \n",
       "2001Q4  ISLAND UTILITY COMPANY          1            Q            10   \n",
       "2002Q1  ISLAND UTILITY COMPANY          1            Q            10   \n",
       "\n",
       "        sumsum_gross  ...  4D_eff_tax%_perc_glob  4D_deduc2income_perc_glob  \\\n",
       "date                  ...                                                     \n",
       "2001Q1      16193.58  ...               0.500045                   0.500000   \n",
       "2001Q2     158968.92  ...               0.500184                   0.499954   \n",
       "2001Q3      95335.05  ...               0.500093                   0.500047   \n",
       "2001Q4      36138.27  ...               0.499573                   0.500190   \n",
       "2002Q1       7334.92  ...               0.804250                   0.498629   \n",
       "\n",
       "        4D_eff_tax_perc_ind  4D_deduc2income_perc_ind  k-cluster_ind  \\\n",
       "date                                                                   \n",
       "2001Q1             0.545455                  0.545455            0.0   \n",
       "2001Q2             0.545455                  0.545455            0.0   \n",
       "2001Q3             0.545455                  0.545455            0.0   \n",
       "2001Q4             0.545455                  0.545455            1.0   \n",
       "2002Q1             0.545455                  0.590909            0.0   \n",
       "\n",
       "        k-cluster_g  sumsum_gross_perc_glob  sumsum_gross_perc_ind  \\\n",
       "date                                                                 \n",
       "2001Q1            1                0.085914               0.090909   \n",
       "2001Q2            1                0.586863               0.636364   \n",
       "2001Q3            1                0.467638               0.545455   \n",
       "2001Q4            2                0.241137               0.181818   \n",
       "2002Q1            1                0.023600               0.090909   \n",
       "\n",
       "        is_ccluster_ind  is_ccluster_g  \n",
       "date                                    \n",
       "2001Q1                1              1  \n",
       "2001Q2                1              1  \n",
       "2001Q3                1              1  \n",
       "2001Q4                0              0  \n",
       "2002Q1                1              1  \n",
       "\n",
       "[5 rows x 31 columns]"
      ]
     },
     "execution_count": 3,
     "metadata": {},
     "output_type": "execute_result"
    }
   ],
   "source": [
    "q_industries.head()"
   ]
  },
  {
   "cell_type": "code",
   "execution_count": 8,
   "id": "2a4621df-687a-4965-9e2d-9c77adba344a",
   "metadata": {},
   "outputs": [
    {
     "data": {
      "text/plain": [
       "Index(['date', 'original_index', 'business_id', 'assessment_amount', 'naics_2',\n",
       "       'entity_name', 'first_period', 'last_period', 'change', 'change+',\n",
       "       'change-', 'nquarters', 'index', 'naics2', 'bus_loc_id', 'naics_code',\n",
       "       'business_legal_name', 'maxNumLoc', 'tax_period_cd', 'obl_type_id',\n",
       "       'sumsum_gross', 'sumsum_deduc', 'sumsum_taxable', 'sumsum_paid',\n",
       "       'eff_tax_rate%', 'deduc_to_income_ratio', 'eff_tax%_perc_glob',\n",
       "       'eff_tax%_perc_ind', 'deduc2income_perc_glob', 'deduc2income_perc_ind',\n",
       "       '4Delta_abs_eff_tax_rate%', '4Delta_abs_deduc_to_income_ratio',\n",
       "       '4D_eff_tax%_perc_glob', '4D_deduc2income_perc_glob',\n",
       "       '4D_eff_tax_perc_ind', '4D_deduc2income_perc_ind', 'k-cluster_ind',\n",
       "       'k-cluster_g', 'sumsum_gross_perc_glob', 'sumsum_gross_perc_ind',\n",
       "       'ischange+_outside_ccluster', 'ischange+OR-_outside_ccluster',\n",
       "       'is_ccluster_ind', 'is_ccluster_g', 'ischange+_outside_ccluster_ind',\n",
       "       'ischange+OR-_outside_ccluster_ind'],\n",
       "      dtype='object')"
      ]
     },
     "execution_count": 8,
     "metadata": {},
     "output_type": "execute_result"
    }
   ],
   "source": [
    "q_audit_data_combined.columns"
   ]
  },
  {
   "cell_type": "markdown",
   "id": "1114f53c-b001-4398-98f9-5a00c40103d8",
   "metadata": {},
   "source": [
    "# Naive Positive Change"
   ]
  },
  {
   "cell_type": "code",
   "execution_count": 53,
   "id": "e957ff28-fcfa-4d81-a38b-8906e9a5982c",
   "metadata": {},
   "outputs": [
    {
     "data": {
      "text/plain": [
       "(6989, 46)"
      ]
     },
     "execution_count": 53,
     "metadata": {},
     "output_type": "execute_result"
    }
   ],
   "source": [
    "q_audit_data_combined.shape"
   ]
  },
  {
   "cell_type": "code",
   "execution_count": 9,
   "id": "2eae285b-b6b4-4f56-8655-e8ee37bbdd01",
   "metadata": {},
   "outputs": [],
   "source": [
    "X = q_audit_data_combined[[ 'date','maxNumLoc', \n",
    "       'eff_tax%_perc_glob', 'eff_tax%_perc_ind', \n",
    "       'deduc2income_perc_glob', 'deduc2income_perc_ind',\n",
    "       '4D_eff_tax%_perc_glob', '4D_deduc2income_perc_glob',\n",
    "       '4D_eff_tax_perc_ind', '4D_deduc2income_perc_ind',\n",
    "        'sumsum_gross_perc_glob', 'sumsum_gross_perc_ind'                 \n",
    "                          ]].copy()"
   ]
  },
  {
   "cell_type": "code",
   "execution_count": 10,
   "id": "35185a70-db3d-4f1d-844b-85033f02c216",
   "metadata": {},
   "outputs": [],
   "source": [
    "X.loc[:,'quarter'] = X['date'].dt.quarter\n",
    "\n",
    "X.drop(columns=['date'], inplace=True)"
   ]
  },
  {
   "cell_type": "code",
   "execution_count": 52,
   "id": "9afccc93-1af9-43fa-9f16-77f8730bd017",
   "metadata": {},
   "outputs": [
    {
     "data": {
      "text/plain": [
       "6989"
      ]
     },
     "execution_count": 52,
     "metadata": {},
     "output_type": "execute_result"
    }
   ],
   "source": [
    "# Constructing y\n",
    "y = np.where(q_audit_data_combined['change+'], 1, np.where(q_audit_data_combined['change-'], 0, 0))\n",
    "y"
   ]
  },
  {
   "cell_type": "code",
   "execution_count": 12,
   "id": "30add378-8f5a-452a-a3f4-607327a950ac",
   "metadata": {},
   "outputs": [],
   "source": [
    "# Splitting the data into training and testing sets\n",
    "X_train, X_test, y_train, y_test = train_test_split(X, y, test_size=0.2, random_state=19)\n",
    "\n"
   ]
  },
  {
   "cell_type": "code",
   "execution_count": 13,
   "id": "a995c433-688c-4814-be85-f12f52ade2fd",
   "metadata": {},
   "outputs": [
    {
     "name": "stdout",
     "output_type": "stream",
     "text": [
      "Accuracy: 0.5836909871244635\n"
     ]
    }
   ],
   "source": [
    "# Creating an instance of the LogisticRegression model\n",
    "logreg = LogisticRegression(max_iter=200)\n",
    "\n",
    "# Fitting the model on the training data\n",
    "logreg.fit(X_train, y_train)\n",
    "\n",
    "# Predicting on the test data\n",
    "y_pred = logreg.predict(X_test)\n",
    "\n",
    "# Calculating the accuracy of the model\n",
    "accuracy = accuracy_score(y_test, y_pred)\n",
    "print(\"Accuracy:\", accuracy)"
   ]
  },
  {
   "cell_type": "code",
   "execution_count": 14,
   "id": "0f161dd1-757c-42bc-8263-bc518d8e92de",
   "metadata": {},
   "outputs": [
    {
     "name": "stdout",
     "output_type": "stream",
     "text": [
      "Classification Report\n",
      "Logistic Regression - Naive Model - Positive Change\n",
      "              precision    recall  f1-score   support\n",
      "\n",
      "           0       0.60      0.74      0.66       770\n",
      "           1       0.55      0.40      0.46       628\n",
      "\n",
      "    accuracy                           0.58      1398\n",
      "   macro avg       0.58      0.57      0.56      1398\n",
      "weighted avg       0.58      0.58      0.57      1398\n",
      "\n"
     ]
    }
   ],
   "source": [
    "# Generate the classification report\n",
    "report = classification_report(y_test, y_pred)\n",
    "\n",
    "# Display the classification report\n",
    "print(\"Classification Report\")\n",
    "print(\"Logistic Regression - Naive Model - Positive Change\")\n",
    "print(report)"
   ]
  },
  {
   "cell_type": "code",
   "execution_count": 15,
   "id": "6a6aac18-709a-42ae-b586-807902a2844e",
   "metadata": {
    "collapsed": true,
    "jupyter": {
     "outputs_hidden": true,
     "source_hidden": true
    },
    "tags": []
   },
   "outputs": [
    {
     "name": "stdout",
     "output_type": "stream",
     "text": [
      "              precision    recall  f1-score   support\n",
      "\n",
      "           0       0.55      1.00      0.71       770\n",
      "           1       0.00      0.00      0.00       628\n",
      "\n",
      "    accuracy                           0.55      1398\n",
      "   macro avg       0.28      0.50      0.36      1398\n",
      "weighted avg       0.30      0.55      0.39      1398\n",
      "\n"
     ]
    },
    {
     "name": "stderr",
     "output_type": "stream",
     "text": [
      "/opt/anaconda3/envs/core/lib/python3.9/site-packages/sklearn/metrics/_classification.py:1469: UndefinedMetricWarning: Precision and F-score are ill-defined and being set to 0.0 in labels with no predicted samples. Use `zero_division` parameter to control this behavior.\n",
      "  _warn_prf(average, modifier, msg_start, len(result))\n",
      "/opt/anaconda3/envs/core/lib/python3.9/site-packages/sklearn/metrics/_classification.py:1469: UndefinedMetricWarning: Precision and F-score are ill-defined and being set to 0.0 in labels with no predicted samples. Use `zero_division` parameter to control this behavior.\n",
      "  _warn_prf(average, modifier, msg_start, len(result))\n",
      "/opt/anaconda3/envs/core/lib/python3.9/site-packages/sklearn/metrics/_classification.py:1469: UndefinedMetricWarning: Precision and F-score are ill-defined and being set to 0.0 in labels with no predicted samples. Use `zero_division` parameter to control this behavior.\n",
      "  _warn_prf(average, modifier, msg_start, len(result))\n"
     ]
    }
   ],
   "source": [
    "svm = SVC()\n",
    "svm.fit(X_train, y_train)\n",
    "y_pred = svm.predict(X_test)\n",
    "# Generate the classification report\n",
    "report = classification_report(y_test, y_pred)\n",
    "\n",
    "# Display the classification report\n",
    "print(report)"
   ]
  },
  {
   "cell_type": "markdown",
   "id": "a2d63a60-e427-4411-8161-13df3de193bb",
   "metadata": {},
   "source": [
    "### Naive - Change"
   ]
  },
  {
   "cell_type": "code",
   "execution_count": 16,
   "id": "1a9c17d6-1555-4ed5-8590-b3a99a17324e",
   "metadata": {},
   "outputs": [
    {
     "data": {
      "text/plain": [
       "array([1, 1, 1, ..., 1, 1, 1])"
      ]
     },
     "execution_count": 16,
     "metadata": {},
     "output_type": "execute_result"
    }
   ],
   "source": [
    "# Constructing y\n",
    "y = np.where(q_audit_data_combined['change+'], 1, np.where(q_audit_data_combined['change-'], 1, 0))\n",
    "y"
   ]
  },
  {
   "cell_type": "code",
   "execution_count": 17,
   "id": "eef3d4e3-af71-46f4-907a-b81793cd5a3e",
   "metadata": {},
   "outputs": [],
   "source": [
    "# Splitting the data into training and testing sets\n",
    "X_train, X_test, y_train, y_test = train_test_split(X, y, test_size=0.2, random_state=19)"
   ]
  },
  {
   "cell_type": "code",
   "execution_count": 18,
   "id": "5a5563f4-b0f2-4ac5-a492-b12822ed6405",
   "metadata": {},
   "outputs": [
    {
     "name": "stdout",
     "output_type": "stream",
     "text": [
      "Accuracy: 0.6809728183118741\n"
     ]
    }
   ],
   "source": [
    "# Creating an instance of the LogisticRegression model\n",
    "logreg = LogisticRegression(max_iter=200)\n",
    "\n",
    "# Fitting the model on the training data\n",
    "logreg.fit(X_train, y_train)\n",
    "\n",
    "# Predicting on the test data\n",
    "y_pred = logreg.predict(X_test)\n",
    "\n",
    "# Calculating the accuracy of the model\n",
    "accuracy = accuracy_score(y_test, y_pred)\n",
    "print(\"Accuracy:\", accuracy)"
   ]
  },
  {
   "cell_type": "code",
   "execution_count": 19,
   "id": "7ae920e6-d816-4c6f-b5f9-7817728209c4",
   "metadata": {},
   "outputs": [
    {
     "name": "stdout",
     "output_type": "stream",
     "text": [
      "Classification Report\n",
      "Logistic Regression - Naive Model - Change\n",
      "              precision    recall  f1-score   support\n",
      "\n",
      "           0       0.68      0.25      0.37       514\n",
      "           1       0.68      0.93      0.79       884\n",
      "\n",
      "    accuracy                           0.68      1398\n",
      "   macro avg       0.68      0.59      0.58      1398\n",
      "weighted avg       0.68      0.68      0.63      1398\n",
      "\n"
     ]
    }
   ],
   "source": [
    "# Generate the classification report\n",
    "report = classification_report(y_test, y_pred)\n",
    "\n",
    "# Display the classification report\n",
    "print(\"Classification Report\")\n",
    "print(\"Logistic Regression - Naive Model - Change\")\n",
    "print(report)"
   ]
  },
  {
   "cell_type": "code",
   "execution_count": 20,
   "id": "66d1d78a-ed2a-4437-885f-c1a3db9ce032",
   "metadata": {
    "collapsed": true,
    "jupyter": {
     "outputs_hidden": true,
     "source_hidden": true
    },
    "tags": []
   },
   "outputs": [
    {
     "name": "stdout",
     "output_type": "stream",
     "text": [
      "              precision    recall  f1-score   support\n",
      "\n",
      "           0       1.00      0.04      0.07       514\n",
      "           1       0.64      1.00      0.78       884\n",
      "\n",
      "    accuracy                           0.65      1398\n",
      "   macro avg       0.82      0.52      0.43      1398\n",
      "weighted avg       0.77      0.65      0.52      1398\n",
      "\n"
     ]
    }
   ],
   "source": [
    "svm = SVC()\n",
    "svm.fit(X_train, y_train)\n",
    "y_pred = svm.predict(X_test)\n",
    "# Generate the classification report\n",
    "report = classification_report(y_test, y_pred)\n",
    "\n",
    "# Display the classification report\n",
    "print(report)"
   ]
  },
  {
   "cell_type": "markdown",
   "id": "6dfb66a4-a7b7-4398-b003-e78a359308b4",
   "metadata": {},
   "source": [
    "**Conclusions**\n",
    "\n",
    "This second round of training increased the accuracy from 65% to 68% when adding sales percentiles; and from 55% to 58% to recognize positive change.\n",
    "\n",
    "This could improve significantly if we change our way of labeling, and add the clustering.\n",
    "\n",
    "Positive changes marked only in the periods outside the compliant cluster."
   ]
  },
  {
   "cell_type": "markdown",
   "id": "14f57b52-f1ca-427c-8142-dc4d4d675def",
   "metadata": {},
   "source": [
    "# Adding cluster as Feature"
   ]
  },
  {
   "cell_type": "markdown",
   "id": "cd97cb78-beba-4d65-ba19-2121c585731a",
   "metadata": {},
   "source": [
    "**First Attempt: global data**\n",
    "\n",
    "All industries, \n",
    "First case: success (1) mark for POSITIVE CHANGE outside the compliant cluster. If this improve the results, we can add to all industries."
   ]
  },
  {
   "cell_type": "code",
   "execution_count": 115,
   "id": "d2a723ca-ce39-424e-95fd-5a05def0f218",
   "metadata": {
    "tags": []
   },
   "outputs": [],
   "source": [
    "X = q_audit_data_combined[[ 'date','maxNumLoc', \n",
    "        'sumsum_gross_perc_ind', 'sumsum_gross_perc_glob',\n",
    "       'eff_tax%_perc_glob', 'eff_tax%_perc_ind', \n",
    "       'deduc2income_perc_glob', 'deduc2income_perc_ind',\n",
    "       '4D_eff_tax%_perc_glob', '4D_deduc2income_perc_glob',\n",
    "       '4D_eff_tax_perc_ind', '4D_deduc2income_perc_ind',\n",
    "       'k-cluster_g', 'k-cluster_ind']].copy()\n",
    "\n",
    "y = q_audit_data_combined['ischange+_outside_ccluster_ind']\n"
   ]
  },
  {
   "cell_type": "code",
   "execution_count": 116,
   "id": "c9034158-4fb8-4804-ab61-f4164ab56c8e",
   "metadata": {
    "tags": []
   },
   "outputs": [],
   "source": [
    "X.loc[:,'quarter'] = X['date'].dt.quarter\n",
    "\n",
    "X.drop(columns=['date'], inplace=True)"
   ]
  },
  {
   "cell_type": "code",
   "execution_count": 117,
   "id": "6f7ffc78-99a5-43e4-b6b1-e0cd744e4933",
   "metadata": {
    "tags": []
   },
   "outputs": [],
   "source": [
    "# Splitting the data into training and testing sets\n",
    "X_train, X_test, y_train, y_test = train_test_split(X, y, test_size=0.2, random_state=19)"
   ]
  },
  {
   "cell_type": "code",
   "execution_count": 118,
   "id": "dffd644f-1c8f-461e-b18a-ae086912492e",
   "metadata": {
    "tags": []
   },
   "outputs": [
    {
     "name": "stdout",
     "output_type": "stream",
     "text": [
      "Accuracy: 0.8247496423462088\n"
     ]
    }
   ],
   "source": [
    "# Creating an instance of the LogisticRegression model\n",
    "logreg = LogisticRegression(max_iter=300)\n",
    "\n",
    "# Fitting the model on the training data\n",
    "logreg.fit(X_train, y_train)\n",
    "\n",
    "# Predicting on the test data\n",
    "y_pred = logreg.predict(X_test)\n",
    "\n",
    "# Calculating the accuracy of the model\n",
    "accuracy = accuracy_score(y_test, y_pred)\n",
    "print(\"Accuracy:\", accuracy)"
   ]
  },
  {
   "cell_type": "code",
   "execution_count": 119,
   "id": "264e8a5f-a353-4a67-b995-e4ac0aadc8cd",
   "metadata": {
    "tags": []
   },
   "outputs": [
    {
     "name": "stdout",
     "output_type": "stream",
     "text": [
      "Classification Report\n",
      "Classification Report on Positive Change Applying Clustering.\n",
      "Changes labeled as 1 only if outside the compliant cLuster\n",
      "No imbalance added\n",
      "              precision    recall  f1-score   support\n",
      "\n",
      "           0       0.84      0.97      0.90      1149\n",
      "           1       0.53      0.14      0.23       249\n",
      "\n",
      "    accuracy                           0.82      1398\n",
      "   macro avg       0.68      0.56      0.56      1398\n",
      "weighted avg       0.78      0.82      0.78      1398\n",
      "\n"
     ]
    }
   ],
   "source": [
    "# Generate the classification report\n",
    "report = classification_report(y_test, y_pred)\n",
    "\n",
    "# Display the classification report\n",
    "print(\"Classification Report\")\n",
    "print(\"Classification Report on Positive Change Applying Clustering.\")\n",
    "print(\"Changes labeled as 1 only if outside the compliant cLuster\")\n",
    "print(\"No imbalance added\")\n",
    "print(report)"
   ]
  },
  {
   "cell_type": "code",
   "execution_count": 120,
   "id": "61781f2f-97cb-4153-a67b-5bef27c70356",
   "metadata": {
    "tags": []
   },
   "outputs": [
    {
     "name": "stdout",
     "output_type": "stream",
     "text": [
      "              precision    recall  f1-score   support\n",
      "\n",
      "           0       0.82      1.00      0.90      1149\n",
      "           1       0.00      0.00      0.00       249\n",
      "\n",
      "    accuracy                           0.82      1398\n",
      "   macro avg       0.41      0.50      0.45      1398\n",
      "weighted avg       0.68      0.82      0.74      1398\n",
      "\n"
     ]
    },
    {
     "name": "stderr",
     "output_type": "stream",
     "text": [
      "/opt/anaconda3/envs/core/lib/python3.9/site-packages/sklearn/metrics/_classification.py:1469: UndefinedMetricWarning: Precision and F-score are ill-defined and being set to 0.0 in labels with no predicted samples. Use `zero_division` parameter to control this behavior.\n",
      "  _warn_prf(average, modifier, msg_start, len(result))\n",
      "/opt/anaconda3/envs/core/lib/python3.9/site-packages/sklearn/metrics/_classification.py:1469: UndefinedMetricWarning: Precision and F-score are ill-defined and being set to 0.0 in labels with no predicted samples. Use `zero_division` parameter to control this behavior.\n",
      "  _warn_prf(average, modifier, msg_start, len(result))\n",
      "/opt/anaconda3/envs/core/lib/python3.9/site-packages/sklearn/metrics/_classification.py:1469: UndefinedMetricWarning: Precision and F-score are ill-defined and being set to 0.0 in labels with no predicted samples. Use `zero_division` parameter to control this behavior.\n",
      "  _warn_prf(average, modifier, msg_start, len(result))\n"
     ]
    }
   ],
   "source": [
    "svm = SVC()\n",
    "svm.fit(X_train, y_train)\n",
    "y_pred = svm.predict(X_test)\n",
    "# Generate the classification report\n",
    "report = classification_report(y_test, y_pred)\n",
    "\n",
    "# Display the classification report\n",
    "print(report)"
   ]
  },
  {
   "cell_type": "markdown",
   "id": "4f0531a1-e032-4f52-ad30-3166f28c8004",
   "metadata": {
    "tags": []
   },
   "source": [
    "**Observations**\n",
    "\n",
    "The reason of failing to recognize 1s can be due to the imbalance. Will apply sampler oversampling"
   ]
  },
  {
   "cell_type": "markdown",
   "id": "b197d76d-0ae7-478d-986d-39e6ab15ace9",
   "metadata": {},
   "source": [
    "## Adding imbalance"
   ]
  },
  {
   "cell_type": "code",
   "execution_count": 121,
   "id": "1477bdec-a58e-4345-a627-16e366bb2c23",
   "metadata": {},
   "outputs": [
    {
     "data": {
      "text/plain": [
       "0    4617\n",
       "1    4617\n",
       "Name: ischange+_outside_ccluster_ind, dtype: int64"
      ]
     },
     "execution_count": 121,
     "metadata": {},
     "output_type": "execute_result"
    }
   ],
   "source": [
    "# Applying imbalance\n",
    "# Create an instance of RandomOverSampler\n",
    "oversampler = RandomOverSampler(random_state=42)\n",
    "\n",
    "# Apply random oversampling to the training data\n",
    "X_train_resampled, y_train_resampled = oversampler.fit_resample(X_train, y_train)\n",
    "\n",
    "pd.Series(y_train_resampled).value_counts()"
   ]
  },
  {
   "cell_type": "code",
   "execution_count": 122,
   "id": "a4cdd17d-4225-4a48-8d1e-e2522c45cb26",
   "metadata": {},
   "outputs": [],
   "source": [
    "# # Split the resampled data into training and validation sets\n",
    "# X_train_new, X_testval, y_train_new, y_val = train_test_split(X_train_resampled, y_train_resampled, test_size=0.2, random_state=42)\n",
    "\n",
    "# # Model training and evaluation using the resampled data\n",
    "# # Replace X_train and y_train with X_train_new and y_train_new for training\n",
    "# # Replace X_val and y_val with the original validation sets for evaluation"
   ]
  },
  {
   "cell_type": "code",
   "execution_count": 123,
   "id": "8e33b129-a3f5-4698-8578-f4fa58088b32",
   "metadata": {},
   "outputs": [
    {
     "name": "stdout",
     "output_type": "stream",
     "text": [
      "Accuracy: 0.7911301859799714\n"
     ]
    }
   ],
   "source": [
    "# Creating an instance of the LogisticRegression model\n",
    "logreg = LogisticRegression(max_iter=300)\n",
    "\n",
    "# Fitting the model on the training data\n",
    "logreg.fit(X_train_resampled, y_train_resampled)\n",
    "\n",
    "# Predicting on the test data\n",
    "y_pred = logreg.predict(X_test)\n",
    "\n",
    "# Calculating the accuracy of the model\n",
    "accuracy = accuracy_score(y_pred, y_test)\n",
    "print(\"Accuracy:\", accuracy)"
   ]
  },
  {
   "cell_type": "code",
   "execution_count": 124,
   "id": "84a6f770-2812-480f-bde4-b9c98716ffe8",
   "metadata": {},
   "outputs": [
    {
     "name": "stdout",
     "output_type": "stream",
     "text": [
      "Classification Report on Positive Changes Applying Clustering.\n",
      "Positive changes labeled as 1 only if outside the compliant cLuster\n",
      "Imbalance added\n",
      "              precision    recall  f1-score   support\n",
      "\n",
      "           0       1.00      0.75      0.85      1149\n",
      "           1       0.46      1.00      0.63       249\n",
      "\n",
      "    accuracy                           0.79      1398\n",
      "   macro avg       0.73      0.87      0.74      1398\n",
      "weighted avg       0.90      0.79      0.81      1398\n",
      "\n"
     ]
    }
   ],
   "source": [
    "# Generate the classification report\n",
    "report = classification_report(y_test, y_pred)\n",
    "\n",
    "# Display the classification report\n",
    "print(\"Classification Report on Positive Changes Applying Clustering.\")\n",
    "print(\"Positive changes labeled as 1 only if outside the compliant cLuster\")\n",
    "print(\"Imbalance added\")\n",
    "print(report)"
   ]
  },
  {
   "cell_type": "code",
   "execution_count": 125,
   "id": "c6f55fc5-21ed-4ae9-af11-765e5fa23f60",
   "metadata": {},
   "outputs": [
    {
     "name": "stdout",
     "output_type": "stream",
     "text": [
      "Confusion Matrix on Positive Changes Applying Clustering.\n",
      "Positive changes labeled as 1 only if outside the compliant cLuster\n",
      "tn, fp, fn, tp\n"
     ]
    },
    {
     "data": {
      "text/plain": [
       "array([[858, 291],\n",
       "       [  1, 248]])"
      ]
     },
     "execution_count": 125,
     "metadata": {},
     "output_type": "execute_result"
    }
   ],
   "source": [
    "print(\"Confusion Matrix on Positive Changes Applying Clustering.\")\n",
    "print(\"Positive changes labeled as 1 only if outside the compliant cLuster\")\n",
    "print(\"tn, fp, fn, tp\")\n",
    "confusion_matrix(y_test, y_pred)"
   ]
  },
  {
   "cell_type": "code",
   "execution_count": 126,
   "id": "3ccee88b-307e-4cac-8546-02ce64202425",
   "metadata": {},
   "outputs": [
    {
     "name": "stdout",
     "output_type": "stream",
     "text": [
      "Imbalanced classification Report on Positive Changes Applying Clustering. Positive Changes are labeled as succesful only on Clusters Outside the Compliant CLuster\n",
      "                   pre       rec       spe        f1       geo       iba       sup\n",
      "\n",
      "          0       1.00      0.75      1.00      0.85      0.86      0.73      1149\n",
      "          1       0.46      1.00      0.75      0.63      0.86      0.76       249\n",
      "\n",
      "avg / total       0.90      0.79      0.95      0.81      0.86      0.73      1398\n",
      "\n"
     ]
    }
   ],
   "source": [
    "report = classification_report_imbalanced(y_test, y_pred)\n",
    "print(\"Imbalanced classification Report on Positive Changes Applying Clustering. Positive Changes are labeled as succesful only on Clusters Outside the Compliant CLuster\")\n",
    "print(report)"
   ]
  },
  {
   "cell_type": "markdown",
   "id": "d2362d76-cc8f-40ee-a684-340b69b1b14a",
   "metadata": {},
   "source": [
    "# Looking for best probabiliy threshold to improve precision"
   ]
  },
  {
   "cell_type": "code",
   "execution_count": 129,
   "id": "5f29a25d-2308-4035-b627-4269ecf353ec",
   "metadata": {},
   "outputs": [
    {
     "name": "stdout",
     "output_type": "stream",
     "text": [
      "Classification Report - Positive Change\n",
      "Clustering Applied\n",
      "Changes labeled as 1 only if outside the compliant cLuster\n",
      "Imbalance added - Threshold proba > 0.75\n",
      "              precision    recall  f1-score   support\n",
      "\n",
      "           0       0.93      0.86      0.89      1149\n",
      "           1       0.52      0.70      0.60       249\n",
      "\n",
      "    accuracy                           0.83      1398\n",
      "   macro avg       0.73      0.78      0.75      1398\n",
      "weighted avg       0.86      0.83      0.84      1398\n",
      "\n",
      "\n",
      "Confuction Matrix\n"
     ]
    },
    {
     "data": {
      "text/plain": [
       "array([[989, 160],\n",
       "       [ 74, 175]])"
      ]
     },
     "execution_count": 129,
     "metadata": {},
     "output_type": "execute_result"
    }
   ],
   "source": [
    "# Changing threshold to improve precision\n",
    "# Predict probabilities for the test data\n",
    "y_proba = logreg.predict_proba(X_test)\n",
    "\n",
    "# Adjust the decision threshold\n",
    "threshold = 0.75 # Set a higher threshold to increase precision\n",
    "y_pred = (y_proba[:, 1] >= threshold).astype(int)\n",
    "\n",
    "# Generate the classification report\n",
    "report = classification_report(y_test, y_pred)\n",
    "\n",
    "# Display the classification report\n",
    "print(\"Classification Report - Positive Change\")\n",
    "print(\"Clustering Applied\")\n",
    "print(\"Changes labeled as 1 only if outside the compliant cLuster\")\n",
    "print(f\"Imbalance added - Threshold proba > {threshold}\")\n",
    "print(report)\n",
    "print(\"\")\n",
    "print(\"Confuction Matrix\")\n",
    "confusion_matrix(y_test, y_pred)"
   ]
  },
  {
   "cell_type": "code",
   "execution_count": 128,
   "id": "df1f7cda-288c-45aa-accf-749032439f26",
   "metadata": {},
   "outputs": [
    {
     "data": {},
     "metadata": {},
     "output_type": "display_data"
    },
    {
     "data": {
      "application/vnd.holoviews_exec.v0+json": "",
      "text/html": [
       "<div id='2021'>\n",
       "  <div class=\"bk-root\" id=\"5b0bf6cf-3250-4f38-918b-1eda08f53575\" data-root-id=\"2021\"></div>\n",
       "</div>\n",
       "<script type=\"application/javascript\">(function(root) {\n",
       "  function embed_document(root) {\n",
       "    var docs_json = {\"7f2374a2-95c9-4b89-ba20-c538c10391eb\":{\"defs\":[{\"extends\":null,\"module\":null,\"name\":\"ReactiveHTML1\",\"overrides\":[],\"properties\":[]},{\"extends\":null,\"module\":null,\"name\":\"FlexBox1\",\"overrides\":[],\"properties\":[{\"default\":\"flex-start\",\"kind\":null,\"name\":\"align_content\"},{\"default\":\"flex-start\",\"kind\":null,\"name\":\"align_items\"},{\"default\":\"row\",\"kind\":null,\"name\":\"flex_direction\"},{\"default\":\"wrap\",\"kind\":null,\"name\":\"flex_wrap\"},{\"default\":\"flex-start\",\"kind\":null,\"name\":\"justify_content\"}]},{\"extends\":null,\"module\":null,\"name\":\"GridStack1\",\"overrides\":[],\"properties\":[{\"default\":\"warn\",\"kind\":null,\"name\":\"mode\"},{\"default\":null,\"kind\":null,\"name\":\"ncols\"},{\"default\":null,\"kind\":null,\"name\":\"nrows\"},{\"default\":true,\"kind\":null,\"name\":\"allow_resize\"},{\"default\":true,\"kind\":null,\"name\":\"allow_drag\"},{\"default\":[],\"kind\":null,\"name\":\"state\"}]},{\"extends\":null,\"module\":null,\"name\":\"click1\",\"overrides\":[],\"properties\":[{\"default\":\"\",\"kind\":null,\"name\":\"terminal_output\"},{\"default\":\"\",\"kind\":null,\"name\":\"debug_name\"},{\"default\":0,\"kind\":null,\"name\":\"clears\"}]},{\"extends\":null,\"module\":null,\"name\":\"NotificationAreaBase1\",\"overrides\":[],\"properties\":[{\"default\":\"bottom-right\",\"kind\":null,\"name\":\"position\"},{\"default\":0,\"kind\":null,\"name\":\"_clear\"}]},{\"extends\":null,\"module\":null,\"name\":\"NotificationArea1\",\"overrides\":[],\"properties\":[{\"default\":[],\"kind\":null,\"name\":\"notifications\"},{\"default\":\"bottom-right\",\"kind\":null,\"name\":\"position\"},{\"default\":0,\"kind\":null,\"name\":\"_clear\"},{\"default\":[{\"background\":\"#ffc107\",\"icon\":{\"className\":\"fas fa-exclamation-triangle\",\"color\":\"white\",\"tagName\":\"i\"},\"type\":\"warning\"},{\"background\":\"#007bff\",\"icon\":{\"className\":\"fas fa-info-circle\",\"color\":\"white\",\"tagName\":\"i\"},\"type\":\"info\"}],\"kind\":null,\"name\":\"types\"}]},{\"extends\":null,\"module\":null,\"name\":\"Notification\",\"overrides\":[],\"properties\":[{\"default\":null,\"kind\":null,\"name\":\"background\"},{\"default\":3000,\"kind\":null,\"name\":\"duration\"},{\"default\":null,\"kind\":null,\"name\":\"icon\"},{\"default\":\"\",\"kind\":null,\"name\":\"message\"},{\"default\":null,\"kind\":null,\"name\":\"notification_type\"},{\"default\":false,\"kind\":null,\"name\":\"_destroyed\"}]},{\"extends\":null,\"module\":null,\"name\":\"TemplateActions1\",\"overrides\":[],\"properties\":[{\"default\":0,\"kind\":null,\"name\":\"open_modal\"},{\"default\":0,\"kind\":null,\"name\":\"close_modal\"}]},{\"extends\":null,\"module\":null,\"name\":\"MaterialTemplateActions1\",\"overrides\":[],\"properties\":[{\"default\":0,\"kind\":null,\"name\":\"open_modal\"},{\"default\":0,\"kind\":null,\"name\":\"close_modal\"}]}],\"roots\":{\"references\":[{\"attributes\":{\"line_color\":\"#fc4f30\",\"line_width\":2,\"x\":{\"field\":\"Threshold(%)\"},\"y\":{\"field\":\"value\"}},\"id\":\"2106\",\"type\":\"Line\"},{\"attributes\":{\"data\":{\"Threshold(%)\":{\"__ndarray__\":\"AAAAAAAASUAAAAAAAIBLQAAAAAAAAE5AAAAAAABAUEAAAAAAAIBRQAAAAAAAwFJAAAAAAAAAVEAAAAAAAEBVQAAAAAAAgFZAAAAAAADAV0A=\",\"dtype\":\"float64\",\"order\":\"little\",\"shape\":[10]},\"Threshold_left_parenthesis_percent_right_parenthesis\":{\"__ndarray__\":\"AAAAAAAASUAAAAAAAIBLQAAAAAAAAE5AAAAAAABAUEAAAAAAAIBRQAAAAAAAwFJAAAAAAAAAVEAAAAAAAEBVQAAAAAAAgFZAAAAAAADAV0A=\",\"dtype\":\"float64\",\"order\":\"little\",\"shape\":[10]},\"Variable\":[\"Accuracy\",\"Accuracy\",\"Accuracy\",\"Accuracy\",\"Accuracy\",\"Accuracy\",\"Accuracy\",\"Accuracy\",\"Accuracy\",\"Accuracy\"],\"value\":{\"__ndarray__\":\"LTJ1QPBQ6T+B4KFyZZHpP2mGI20ixuk/216ntTBB6j8R43zRDEfqP3Qm1Y7OpOo/F7NV4mK26j/q89JAfV7qP2DB0PIrGOo/YMHQ8isY6j8=\",\"dtype\":\"float64\",\"order\":\"little\",\"shape\":[10]}},\"selected\":{\"id\":\"2086\"},\"selection_policy\":{\"id\":\"2102\"}},\"id\":\"2085\",\"type\":\"ColumnDataSource\"},{\"attributes\":{\"line_alpha\":0.1,\"line_color\":\"#fc4f30\",\"line_width\":2,\"x\":{\"field\":\"Threshold(%)\"},\"y\":{\"field\":\"value\"}},\"id\":\"2089\",\"type\":\"Line\"},{\"attributes\":{\"source\":{\"id\":\"2085\"}},\"id\":\"2092\",\"type\":\"CDSView\"},{\"attributes\":{\"end\":1.0887550200803213,\"reset_end\":1.0887550200803213,\"reset_start\":-0.024497991967871488,\"start\":-0.024497991967871488,\"tags\":[[[\"value\",\"value\",null]]]},\"id\":\"2024\",\"type\":\"Range1d\"},{\"attributes\":{\"line_alpha\":0.2,\"line_color\":\"#fc4f30\",\"line_width\":2,\"x\":{\"field\":\"Threshold(%)\"},\"y\":{\"field\":\"value\"}},\"id\":\"2090\",\"type\":\"Line\"},{\"attributes\":{},\"id\":\"2063\",\"type\":\"AllLabels\"},{\"attributes\":{\"line_color\":\"#e5ae38\",\"line_width\":2,\"x\":{\"field\":\"Threshold(%)\"},\"y\":{\"field\":\"value\"}},\"id\":\"2130\",\"type\":\"Line\"},{\"attributes\":{\"axis_label\":\"\",\"coordinates\":null,\"formatter\":{\"id\":\"2062\"},\"group\":null,\"major_label_policy\":{\"id\":\"2063\"},\"ticker\":{\"id\":\"2042\"}},\"id\":\"2041\",\"type\":\"LinearAxis\"},{\"attributes\":{},\"id\":\"2059\",\"type\":\"BasicTickFormatter\"},{\"attributes\":{\"margin\":[5,5,5,5],\"name\":\"HSpacer02453\",\"sizing_mode\":\"stretch_width\"},\"id\":\"2145\",\"type\":\"Spacer\"},{\"attributes\":{\"below\":[{\"id\":\"2037\"}],\"center\":[{\"id\":\"2040\"},{\"id\":\"2044\"}],\"height\":300,\"left\":[{\"id\":\"2041\"}],\"margin\":[5,5,5,5],\"min_border_bottom\":10,\"min_border_left\":10,\"min_border_right\":10,\"min_border_top\":10,\"renderers\":[{\"id\":\"2070\"},{\"id\":\"2091\"},{\"id\":\"2113\"}],\"right\":[{\"id\":\"2082\"}],\"sizing_mode\":\"fixed\",\"title\":{\"id\":\"2029\"},\"toolbar\":{\"id\":\"2051\"},\"width\":700,\"x_range\":{\"id\":\"2023\"},\"x_scale\":{\"id\":\"2033\"},\"y_range\":{\"id\":\"2024\"},\"y_scale\":{\"id\":\"2035\"}},\"id\":\"2028\",\"subtype\":\"Figure\",\"type\":\"Plot\"},{\"attributes\":{\"click_policy\":\"mute\",\"coordinates\":null,\"group\":null,\"items\":[{\"id\":\"2083\"},{\"id\":\"2105\"},{\"id\":\"2129\"}],\"location\":[0,0],\"title\":\"Variable\"},\"id\":\"2082\",\"type\":\"Legend\"},{\"attributes\":{\"coordinates\":null,\"data_source\":{\"id\":\"2085\"},\"glyph\":{\"id\":\"2088\"},\"group\":null,\"hover_glyph\":null,\"muted_glyph\":{\"id\":\"2090\"},\"nonselection_glyph\":{\"id\":\"2089\"},\"selection_glyph\":{\"id\":\"2106\"},\"view\":{\"id\":\"2092\"}},\"id\":\"2091\",\"type\":\"GlyphRenderer\"},{\"attributes\":{\"line_alpha\":0.2,\"line_color\":\"#30a2da\",\"line_width\":2,\"x\":{\"field\":\"Threshold(%)\"},\"y\":{\"field\":\"value\"}},\"id\":\"2069\",\"type\":\"Line\"},{\"attributes\":{\"data\":{\"Threshold(%)\":{\"__ndarray__\":\"AAAAAAAASUAAAAAAAIBLQAAAAAAAAE5AAAAAAABAUEAAAAAAAIBRQAAAAAAAwFJAAAAAAAAAVEAAAAAAAEBVQAAAAAAAgFZAAAAAAADAV0A=\",\"dtype\":\"float64\",\"order\":\"little\",\"shape\":[10]},\"Threshold_left_parenthesis_percent_right_parenthesis\":{\"__ndarray__\":\"AAAAAAAASUAAAAAAAIBLQAAAAAAAAE5AAAAAAABAUEAAAAAAAIBRQAAAAAAAwFJAAAAAAAAAVEAAAAAAAEBVQAAAAAAAgFZAAAAAAADAV0A=\",\"dtype\":\"float64\",\"order\":\"little\",\"shape\":[10]},\"Variable\":[\"Recall\",\"Recall\",\"Recall\",\"Recall\",\"Recall\",\"Recall\",\"Recall\",\"Recall\",\"Recall\",\"Recall\"],\"value\":{\"__ndarray__\":\"EHDrsxnf7z9joIQ3mjrvP9aw9CJOVO4/zUHArc9m7D8FkzkIuPXpP8FkDgJufeY/vNHU+bWH3D9Dd+xqWHrBP7j12Yzvj7Q/Q3fsalh6sT8=\",\"dtype\":\"float64\",\"order\":\"little\",\"shape\":[10]}},\"selected\":{\"id\":\"2108\"},\"selection_policy\":{\"id\":\"2126\"}},\"id\":\"2107\",\"type\":\"ColumnDataSource\"},{\"attributes\":{\"line_color\":\"#e5ae38\",\"line_width\":2,\"x\":{\"field\":\"Threshold(%)\"},\"y\":{\"field\":\"value\"}},\"id\":\"2110\",\"type\":\"Line\"},{\"attributes\":{},\"id\":\"2047\",\"type\":\"WheelZoomTool\"},{\"attributes\":{\"overlay\":{\"id\":\"2050\"}},\"id\":\"2048\",\"type\":\"BoxZoomTool\"},{\"attributes\":{},\"id\":\"2062\",\"type\":\"BasicTickFormatter\"},{\"attributes\":{\"coordinates\":null,\"group\":null,\"text\":\"Metrics depending on the Probability Threshold to Set the Success\",\"text_color\":\"black\",\"text_font_size\":\"12pt\"},\"id\":\"2029\",\"type\":\"Title\"},{\"attributes\":{\"label\":{\"value\":\"Accuracy\"},\"renderers\":[{\"id\":\"2091\"}]},\"id\":\"2105\",\"type\":\"LegendItem\"},{\"attributes\":{\"bottom_units\":\"screen\",\"coordinates\":null,\"fill_alpha\":0.5,\"fill_color\":\"lightgrey\",\"group\":null,\"left_units\":\"screen\",\"level\":\"overlay\",\"line_alpha\":1.0,\"line_color\":\"black\",\"line_dash\":[4,4],\"line_width\":2,\"right_units\":\"screen\",\"syncable\":false,\"top_units\":\"screen\"},\"id\":\"2050\",\"type\":\"BoxAnnotation\"},{\"attributes\":{\"axis_label\":\"Threshold(%)\",\"coordinates\":null,\"formatter\":{\"id\":\"2059\"},\"group\":null,\"major_label_policy\":{\"id\":\"2060\"},\"ticker\":{\"id\":\"2038\"}},\"id\":\"2037\",\"type\":\"LinearAxis\"},{\"attributes\":{},\"id\":\"2045\",\"type\":\"SaveTool\"},{\"attributes\":{},\"id\":\"2102\",\"type\":\"UnionRenderers\"},{\"attributes\":{\"axis\":{\"id\":\"2037\"},\"coordinates\":null,\"grid_line_color\":null,\"group\":null,\"ticker\":null},\"id\":\"2040\",\"type\":\"Grid\"},{\"attributes\":{},\"id\":\"2060\",\"type\":\"AllLabels\"},{\"attributes\":{},\"id\":\"2049\",\"type\":\"ResetTool\"},{\"attributes\":{\"axis\":{\"id\":\"2041\"},\"coordinates\":null,\"dimension\":1,\"grid_line_color\":null,\"group\":null,\"ticker\":null},\"id\":\"2044\",\"type\":\"Grid\"},{\"attributes\":{\"line_alpha\":0.1,\"line_color\":\"#e5ae38\",\"line_width\":2,\"x\":{\"field\":\"Threshold(%)\"},\"y\":{\"field\":\"value\"}},\"id\":\"2111\",\"type\":\"Line\"},{\"attributes\":{\"line_alpha\":0.2,\"line_color\":\"#e5ae38\",\"line_width\":2,\"x\":{\"field\":\"Threshold(%)\"},\"y\":{\"field\":\"value\"}},\"id\":\"2112\",\"type\":\"Line\"},{\"attributes\":{\"children\":[{\"id\":\"2022\"},{\"id\":\"2028\"},{\"id\":\"2145\"}],\"margin\":[0,0,0,0],\"name\":\"Row02448\",\"tags\":[\"embedded\"]},\"id\":\"2021\",\"type\":\"Row\"},{\"attributes\":{\"source\":{\"id\":\"2107\"}},\"id\":\"2114\",\"type\":\"CDSView\"},{\"attributes\":{\"tools\":[{\"id\":\"2025\"},{\"id\":\"2045\"},{\"id\":\"2046\"},{\"id\":\"2047\"},{\"id\":\"2048\"},{\"id\":\"2049\"}]},\"id\":\"2051\",\"type\":\"Toolbar\"},{\"attributes\":{\"coordinates\":null,\"data_source\":{\"id\":\"2107\"},\"glyph\":{\"id\":\"2110\"},\"group\":null,\"hover_glyph\":null,\"muted_glyph\":{\"id\":\"2112\"},\"nonselection_glyph\":{\"id\":\"2111\"},\"selection_glyph\":{\"id\":\"2130\"},\"view\":{\"id\":\"2114\"}},\"id\":\"2113\",\"type\":\"GlyphRenderer\"},{\"attributes\":{\"line_alpha\":0.1,\"line_color\":\"#30a2da\",\"line_width\":2,\"x\":{\"field\":\"Threshold(%)\"},\"y\":{\"field\":\"value\"}},\"id\":\"2068\",\"type\":\"Line\"},{\"attributes\":{\"label\":{\"value\":\"Recall\"},\"renderers\":[{\"id\":\"2113\"}]},\"id\":\"2129\",\"type\":\"LegendItem\"},{\"attributes\":{\"callback\":null,\"renderers\":[{\"id\":\"2070\"},{\"id\":\"2091\"},{\"id\":\"2113\"}],\"tags\":[\"hv_created\"],\"tooltips\":[[\"Variable\",\"@{Variable}\"],[\"Threshold(%)\",\"@{Threshold_left_parenthesis_percent_right_parenthesis}\"],[\"value\",\"@{value}\"]]},\"id\":\"2025\",\"type\":\"HoverTool\"},{\"attributes\":{},\"id\":\"2033\",\"type\":\"LinearScale\"},{\"attributes\":{},\"id\":\"2038\",\"type\":\"BasicTicker\"},{\"attributes\":{\"end\":95.0,\"reset_end\":95.0,\"reset_start\":50.0,\"start\":50.0,\"tags\":[[[\"Threshold(%)\",\"Threshold(%)\",null]]]},\"id\":\"2023\",\"type\":\"Range1d\"},{\"attributes\":{\"margin\":[5,5,5,5],\"name\":\"HSpacer02452\",\"sizing_mode\":\"stretch_width\"},\"id\":\"2022\",\"type\":\"Spacer\"},{\"attributes\":{\"data\":{\"Threshold(%)\":{\"__ndarray__\":\"AAAAAAAASUAAAAAAAIBLQAAAAAAAAE5AAAAAAABAUEAAAAAAAIBRQAAAAAAAwFJAAAAAAAAAVEAAAAAAAEBVQAAAAAAAgFZAAAAAAADAV0A=\",\"dtype\":\"float64\",\"order\":\"little\",\"shape\":[10]},\"Threshold_left_parenthesis_percent_right_parenthesis\":{\"__ndarray__\":\"AAAAAAAASUAAAAAAAIBLQAAAAAAAAE5AAAAAAABAUEAAAAAAAIBRQAAAAAAAwFJAAAAAAAAAVEAAAAAAAEBVQAAAAAAAgFZAAAAAAADAV0A=\",\"dtype\":\"float64\",\"order\":\"little\",\"shape\":[10]},\"Variable\":[\"Precision\",\"Precision\",\"Precision\",\"Precision\",\"Precision\",\"Precision\",\"Precision\",\"Precision\",\"Precision\",\"Precision\"],\"value\":{\"__ndarray__\":\"ABMIvXZy3T9f4F817gXeP9lz4JJcg94/sv2OXhnb3z8SVM/YxevfP0ykBypnt+A/aWlpaWlp4T/RC73QC73gP4jG+tBYH9o/U9aUNWVN2T8=\",\"dtype\":\"float64\",\"order\":\"little\",\"shape\":[10]}},\"selected\":{\"id\":\"2065\"},\"selection_policy\":{\"id\":\"2079\"}},\"id\":\"2064\",\"type\":\"ColumnDataSource\"},{\"attributes\":{},\"id\":\"2086\",\"type\":\"Selection\"},{\"attributes\":{},\"id\":\"2079\",\"type\":\"UnionRenderers\"},{\"attributes\":{},\"id\":\"2065\",\"type\":\"Selection\"},{\"attributes\":{\"label\":{\"value\":\"Precision\"},\"renderers\":[{\"id\":\"2070\"}]},\"id\":\"2083\",\"type\":\"LegendItem\"},{\"attributes\":{\"coordinates\":null,\"data_source\":{\"id\":\"2064\"},\"glyph\":{\"id\":\"2067\"},\"group\":null,\"hover_glyph\":null,\"muted_glyph\":{\"id\":\"2069\"},\"nonselection_glyph\":{\"id\":\"2068\"},\"selection_glyph\":{\"id\":\"2084\"},\"view\":{\"id\":\"2071\"}},\"id\":\"2070\",\"type\":\"GlyphRenderer\"},{\"attributes\":{\"source\":{\"id\":\"2064\"}},\"id\":\"2071\",\"type\":\"CDSView\"},{\"attributes\":{\"line_color\":\"#fc4f30\",\"line_width\":2,\"x\":{\"field\":\"Threshold(%)\"},\"y\":{\"field\":\"value\"}},\"id\":\"2088\",\"type\":\"Line\"},{\"attributes\":{},\"id\":\"2042\",\"type\":\"BasicTicker\"},{\"attributes\":{},\"id\":\"2035\",\"type\":\"LinearScale\"},{\"attributes\":{\"line_color\":\"#30a2da\",\"line_width\":2,\"x\":{\"field\":\"Threshold(%)\"},\"y\":{\"field\":\"value\"}},\"id\":\"2067\",\"type\":\"Line\"},{\"attributes\":{},\"id\":\"2126\",\"type\":\"UnionRenderers\"},{\"attributes\":{},\"id\":\"2046\",\"type\":\"PanTool\"},{\"attributes\":{\"line_color\":\"#30a2da\",\"line_width\":2,\"x\":{\"field\":\"Threshold(%)\"},\"y\":{\"field\":\"value\"}},\"id\":\"2084\",\"type\":\"Line\"},{\"attributes\":{},\"id\":\"2108\",\"type\":\"Selection\"}],\"root_ids\":[\"2021\"]},\"title\":\"Bokeh Application\",\"version\":\"2.4.3\"}};\n",
       "    var render_items = [{\"docid\":\"7f2374a2-95c9-4b89-ba20-c538c10391eb\",\"root_ids\":[\"2021\"],\"roots\":{\"2021\":\"5b0bf6cf-3250-4f38-918b-1eda08f53575\"}}];\n",
       "    root.Bokeh.embed.embed_items_notebook(docs_json, render_items);\n",
       "    for (const render_item of render_items) {\n",
       "      for (const root_id of render_item.root_ids) {\n",
       "\tconst id_el = document.getElementById(root_id)\n",
       "\tif (id_el.children.length && (id_el.children[0].className === 'bk-root')) {\n",
       "\t  const root_el = id_el.children[0]\n",
       "\t  root_el.id = root_el.id + '-rendered'\n",
       "\t}\n",
       "      }\n",
       "    }\n",
       "  }\n",
       "  if (root.Bokeh !== undefined && root.Bokeh.Panel !== undefined) {\n",
       "    embed_document(root);\n",
       "  } else {\n",
       "    var attempts = 0;\n",
       "    var timer = setInterval(function(root) {\n",
       "      if (root.Bokeh !== undefined && root.Bokeh.Panel !== undefined) {\n",
       "        clearInterval(timer);\n",
       "        embed_document(root);\n",
       "      } else if (document.readyState == \"complete\") {\n",
       "        attempts++;\n",
       "        if (attempts > 200) {\n",
       "          clearInterval(timer);\n",
       "          console.log(\"Bokeh: ERROR: Unable to run BokehJS code because BokehJS library is missing\");\n",
       "        }\n",
       "      }\n",
       "    }, 25, root)\n",
       "  }\n",
       "})(window);</script>"
      ],
      "text/plain": [
       ":NdOverlay   [Variable]\n",
       "   :Curve   [Threshold(%)]   (value)"
      ]
     },
     "execution_count": 128,
     "metadata": {
      "application/vnd.holoviews_exec.v0+json": {
       "id": "2021"
      }
     },
     "output_type": "execute_result"
    }
   ],
   "source": [
    "# Changing threshold to improve precision\n",
    "\n",
    "metrics_df = pd.DataFrame(columns=['Threshold', 'Precision', 'Accuracy', 'Recall'])\n",
    "\n",
    "for threshold in range(50,99,5):\n",
    "    # Predict probabilities for the test data\n",
    "    y_proba = logreg.predict_proba(X_test)\n",
    "\n",
    "    # Adjust the decision threshold\n",
    "    y_pred = (y_proba[:, 1] >= threshold/100).astype(int)\n",
    "\n",
    "    precision = precision_score(y_test, y_pred)\n",
    "    accuracy = accuracy_score(y_test, y_pred)\n",
    "    recall = recall_score(y_test, y_pred)\n",
    "    \n",
    "    metrics = pd.DataFrame({'Threshold(%)': [threshold],\n",
    "                        'Precision': [precision],\n",
    "                        'Accuracy': [accuracy],\n",
    "                        'Recall': [recall]})\n",
    "\n",
    "    # Append the metrics to the DataFrame\n",
    "    metrics_df = pd. concat([metrics_df, metrics], ignore_index=True)\n",
    "    \n",
    "metrics_df.hvplot(y=['Precision', 'Accuracy', 'Recall'], x='Threshold(%)',\n",
    "                 title=\"Metrics depending on the Probability Threshold to Set the Success\")"
   ]
  },
  {
   "cell_type": "markdown",
   "id": "f8da9df4-5317-44db-bb80-8058db64123d",
   "metadata": {
    "tags": []
   },
   "source": [
    "## Power to identify Change (positive or Negative)"
   ]
  },
  {
   "cell_type": "code",
   "execution_count": 131,
   "id": "1f8a92d4-efab-4644-81a9-7461a5984de9",
   "metadata": {},
   "outputs": [],
   "source": [
    "y = q_audit_data_combined['ischange+OR-_outside_ccluster']"
   ]
  },
  {
   "cell_type": "code",
   "execution_count": 132,
   "id": "cf20a91e-70f3-4fb7-9e7e-6980a1cf2b0d",
   "metadata": {},
   "outputs": [],
   "source": [
    "# Splitting the data into training and testing sets\n",
    "X_train, X_test, y_train, y_test = train_test_split(X, y, test_size=0.2, random_state=19)"
   ]
  },
  {
   "cell_type": "code",
   "execution_count": 133,
   "id": "0f3fc5d1-e8cf-4bba-8a81-bfa9f3f3cbed",
   "metadata": {},
   "outputs": [],
   "source": [
    "# Applying imbalance\n",
    "# Create an instance of RandomOverSampler\n",
    "oversampler = RandomOverSampler(random_state=42)\n",
    "\n",
    "# Apply random oversampling to the training data\n",
    "X_train_resampled, y_train_resampled = oversampler.fit_resample(X_train, y_train)\n"
   ]
  },
  {
   "cell_type": "code",
   "execution_count": 141,
   "id": "6f264ca8-f47f-47d4-9ac7-6e2c02c09ea1",
   "metadata": {},
   "outputs": [],
   "source": [
    "# Creating an instance of the LogisticRegression model\n",
    "logreg = LogisticRegression(max_iter = 350)\n",
    "\n",
    "# Fitting the model on the training data\n",
    "logreg.fit(X_train_resampled, y_train_resampled)\n",
    "\n",
    "# Changing threshold to improve precision\n",
    "# Predict probabilities for the test data\n",
    "\n",
    "y_proba = logreg.predict_proba(X_test)\n",
    "\n",
    "# Adjust the decision threshold\n",
    "threshold = 0.75 # Set a higher threshold to increase precision\n",
    "y_pred = (y_proba[:, 1] >= threshold).astype(int)\n"
   ]
  },
  {
   "cell_type": "code",
   "execution_count": 142,
   "id": "6a3a797f-9122-4597-acd5-75753196afc1",
   "metadata": {},
   "outputs": [
    {
     "name": "stdout",
     "output_type": "stream",
     "text": [
      "Classification Report on Change (Positive or Negative) Applying Clustering.\n",
      "Changes labeled as 1 only if outside the compliant cLuster\n",
      "Probability Threshold: 0.75\n",
      "              precision    recall  f1-score   support\n",
      "\n",
      "           0       0.94      0.87      0.90      1053\n",
      "           1       0.68      0.82      0.74       345\n",
      "\n",
      "    accuracy                           0.86      1398\n",
      "   macro avg       0.81      0.85      0.82      1398\n",
      "weighted avg       0.87      0.86      0.86      1398\n",
      "\n"
     ]
    }
   ],
   "source": [
    "# Generate the classification report\n",
    "report = classification_report(y_test, y_pred)\n",
    "\n",
    "# Display the classification report\n",
    "print(\"Classification Report on Change (Positive or Negative) Applying Clustering.\")\n",
    "print(\"Changes labeled as 1 only if outside the compliant cLuster\")\n",
    "print(f\"Probability Threshold: {threshold}\")\n",
    "\n",
    "print(report)"
   ]
  },
  {
   "cell_type": "code",
   "execution_count": 140,
   "id": "76930bd2-9980-47c7-b471-a61186223b53",
   "metadata": {},
   "outputs": [
    {
     "data": {},
     "metadata": {},
     "output_type": "display_data"
    },
    {
     "data": {
      "application/vnd.holoviews_exec.v0+json": "",
      "text/html": [
       "<div id='2217'>\n",
       "  <div class=\"bk-root\" id=\"52110ca5-6cc8-41d7-b0ff-6aed3e3f53a1\" data-root-id=\"2217\"></div>\n",
       "</div>\n",
       "<script type=\"application/javascript\">(function(root) {\n",
       "  function embed_document(root) {\n",
       "    var docs_json = {\"46931ae2-d32e-4ff9-a69e-13cf28aa9450\":{\"defs\":[{\"extends\":null,\"module\":null,\"name\":\"ReactiveHTML1\",\"overrides\":[],\"properties\":[]},{\"extends\":null,\"module\":null,\"name\":\"FlexBox1\",\"overrides\":[],\"properties\":[{\"default\":\"flex-start\",\"kind\":null,\"name\":\"align_content\"},{\"default\":\"flex-start\",\"kind\":null,\"name\":\"align_items\"},{\"default\":\"row\",\"kind\":null,\"name\":\"flex_direction\"},{\"default\":\"wrap\",\"kind\":null,\"name\":\"flex_wrap\"},{\"default\":\"flex-start\",\"kind\":null,\"name\":\"justify_content\"}]},{\"extends\":null,\"module\":null,\"name\":\"GridStack1\",\"overrides\":[],\"properties\":[{\"default\":\"warn\",\"kind\":null,\"name\":\"mode\"},{\"default\":null,\"kind\":null,\"name\":\"ncols\"},{\"default\":null,\"kind\":null,\"name\":\"nrows\"},{\"default\":true,\"kind\":null,\"name\":\"allow_resize\"},{\"default\":true,\"kind\":null,\"name\":\"allow_drag\"},{\"default\":[],\"kind\":null,\"name\":\"state\"}]},{\"extends\":null,\"module\":null,\"name\":\"click1\",\"overrides\":[],\"properties\":[{\"default\":\"\",\"kind\":null,\"name\":\"terminal_output\"},{\"default\":\"\",\"kind\":null,\"name\":\"debug_name\"},{\"default\":0,\"kind\":null,\"name\":\"clears\"}]},{\"extends\":null,\"module\":null,\"name\":\"NotificationAreaBase1\",\"overrides\":[],\"properties\":[{\"default\":\"bottom-right\",\"kind\":null,\"name\":\"position\"},{\"default\":0,\"kind\":null,\"name\":\"_clear\"}]},{\"extends\":null,\"module\":null,\"name\":\"NotificationArea1\",\"overrides\":[],\"properties\":[{\"default\":[],\"kind\":null,\"name\":\"notifications\"},{\"default\":\"bottom-right\",\"kind\":null,\"name\":\"position\"},{\"default\":0,\"kind\":null,\"name\":\"_clear\"},{\"default\":[{\"background\":\"#ffc107\",\"icon\":{\"className\":\"fas fa-exclamation-triangle\",\"color\":\"white\",\"tagName\":\"i\"},\"type\":\"warning\"},{\"background\":\"#007bff\",\"icon\":{\"className\":\"fas fa-info-circle\",\"color\":\"white\",\"tagName\":\"i\"},\"type\":\"info\"}],\"kind\":null,\"name\":\"types\"}]},{\"extends\":null,\"module\":null,\"name\":\"Notification\",\"overrides\":[],\"properties\":[{\"default\":null,\"kind\":null,\"name\":\"background\"},{\"default\":3000,\"kind\":null,\"name\":\"duration\"},{\"default\":null,\"kind\":null,\"name\":\"icon\"},{\"default\":\"\",\"kind\":null,\"name\":\"message\"},{\"default\":null,\"kind\":null,\"name\":\"notification_type\"},{\"default\":false,\"kind\":null,\"name\":\"_destroyed\"}]},{\"extends\":null,\"module\":null,\"name\":\"TemplateActions1\",\"overrides\":[],\"properties\":[{\"default\":0,\"kind\":null,\"name\":\"open_modal\"},{\"default\":0,\"kind\":null,\"name\":\"close_modal\"}]},{\"extends\":null,\"module\":null,\"name\":\"MaterialTemplateActions1\",\"overrides\":[],\"properties\":[{\"default\":0,\"kind\":null,\"name\":\"open_modal\"},{\"default\":0,\"kind\":null,\"name\":\"close_modal\"}]}],\"roots\":{\"references\":[{\"attributes\":{\"coordinates\":null,\"group\":null,\"text\":\"Metrics depending on the Probability Threshold to Set the Success\",\"text_color\":\"black\",\"text_font_size\":\"12pt\"},\"id\":\"2225\",\"type\":\"Title\"},{\"attributes\":{\"data\":{\"Threshold(%)\":{\"__ndarray__\":\"AAAAAAAASUAAAAAAAIBLQAAAAAAAAE5AAAAAAABAUEAAAAAAAIBRQAAAAAAAwFJAAAAAAAAAVEAAAAAAAEBVQAAAAAAAgFZAAAAAAADAV0A=\",\"dtype\":\"float64\",\"order\":\"little\",\"shape\":[10]},\"Threshold_left_parenthesis_percent_right_parenthesis\":{\"__ndarray__\":\"AAAAAAAASUAAAAAAAIBLQAAAAAAAAE5AAAAAAABAUEAAAAAAAIBRQAAAAAAAwFJAAAAAAAAAVEAAAAAAAEBVQAAAAAAAgFZAAAAAAADAV0A=\",\"dtype\":\"float64\",\"order\":\"little\",\"shape\":[10]},\"Variable\":[\"Precision\",\"Precision\",\"Precision\",\"Precision\",\"Precision\",\"Precision\",\"Precision\",\"Precision\",\"Precision\",\"Precision\"],\"value\":{\"__ndarray__\":\"0dbHJ9kQ5D8QjfWhsT7kP4HtlKFWYeQ/cqDuWRBg5D8HbhHQg9XkPzZaozVao+U/LiKh97Pi5T+UH8x5XPrmP15DeQ3lNeQ/chzHcRzH4T8=\",\"dtype\":\"float64\",\"order\":\"little\",\"shape\":[10]}},\"selected\":{\"id\":\"2261\"},\"selection_policy\":{\"id\":\"2275\"}},\"id\":\"2260\",\"type\":\"ColumnDataSource\"},{\"attributes\":{},\"id\":\"2234\",\"type\":\"BasicTicker\"},{\"attributes\":{\"line_color\":\"#fc4f30\",\"line_width\":2,\"x\":{\"field\":\"Threshold(%)\"},\"y\":{\"field\":\"value\"}},\"id\":\"2302\",\"type\":\"Line\"},{\"attributes\":{},\"id\":\"2231\",\"type\":\"LinearScale\"},{\"attributes\":{},\"id\":\"2242\",\"type\":\"PanTool\"},{\"attributes\":{\"axis\":{\"id\":\"2233\"},\"coordinates\":null,\"grid_line_color\":null,\"group\":null,\"ticker\":null},\"id\":\"2236\",\"type\":\"Grid\"},{\"attributes\":{\"line_color\":\"#e5ae38\",\"line_width\":2,\"x\":{\"field\":\"Threshold(%)\"},\"y\":{\"field\":\"value\"}},\"id\":\"2306\",\"type\":\"Line\"},{\"attributes\":{\"line_alpha\":0.1,\"line_color\":\"#fc4f30\",\"line_width\":2,\"x\":{\"field\":\"Threshold(%)\"},\"y\":{\"field\":\"value\"}},\"id\":\"2285\",\"type\":\"Line\"},{\"attributes\":{},\"id\":\"2261\",\"type\":\"Selection\"},{\"attributes\":{\"axis_label\":\"\",\"coordinates\":null,\"formatter\":{\"id\":\"2258\"},\"group\":null,\"major_label_policy\":{\"id\":\"2259\"},\"ticker\":{\"id\":\"2238\"}},\"id\":\"2237\",\"type\":\"LinearAxis\"},{\"attributes\":{\"line_alpha\":0.2,\"line_color\":\"#fc4f30\",\"line_width\":2,\"x\":{\"field\":\"Threshold(%)\"},\"y\":{\"field\":\"value\"}},\"id\":\"2286\",\"type\":\"Line\"},{\"attributes\":{\"axis\":{\"id\":\"2237\"},\"coordinates\":null,\"dimension\":1,\"grid_line_color\":null,\"group\":null,\"ticker\":null},\"id\":\"2240\",\"type\":\"Grid\"},{\"attributes\":{\"line_color\":\"#fc4f30\",\"line_width\":2,\"x\":{\"field\":\"Threshold(%)\"},\"y\":{\"field\":\"value\"}},\"id\":\"2284\",\"type\":\"Line\"},{\"attributes\":{\"line_color\":\"#e5ae38\",\"line_width\":2,\"x\":{\"field\":\"Threshold(%)\"},\"y\":{\"field\":\"value\"}},\"id\":\"2326\",\"type\":\"Line\"},{\"attributes\":{},\"id\":\"2238\",\"type\":\"BasicTicker\"},{\"attributes\":{\"label\":{\"value\":\"Accuracy\"},\"renderers\":[{\"id\":\"2287\"}]},\"id\":\"2301\",\"type\":\"LegendItem\"},{\"attributes\":{},\"id\":\"2243\",\"type\":\"WheelZoomTool\"},{\"attributes\":{},\"id\":\"2255\",\"type\":\"BasicTickFormatter\"},{\"attributes\":{},\"id\":\"2304\",\"type\":\"Selection\"},{\"attributes\":{},\"id\":\"2256\",\"type\":\"AllLabels\"},{\"attributes\":{},\"id\":\"2241\",\"type\":\"SaveTool\"},{\"attributes\":{},\"id\":\"2298\",\"type\":\"UnionRenderers\"},{\"attributes\":{\"end\":1.086376811594203,\"reset_end\":1.086376811594203,\"reset_start\":-0.01971014492753624,\"start\":-0.01971014492753624,\"tags\":[[[\"value\",\"value\",null]]]},\"id\":\"2220\",\"type\":\"Range1d\"},{\"attributes\":{\"line_alpha\":0.1,\"line_color\":\"#e5ae38\",\"line_width\":2,\"x\":{\"field\":\"Threshold(%)\"},\"y\":{\"field\":\"value\"}},\"id\":\"2307\",\"type\":\"Line\"},{\"attributes\":{\"overlay\":{\"id\":\"2246\"}},\"id\":\"2244\",\"type\":\"BoxZoomTool\"},{\"attributes\":{\"axis_label\":\"Threshold(%)\",\"coordinates\":null,\"formatter\":{\"id\":\"2255\"},\"group\":null,\"major_label_policy\":{\"id\":\"2256\"},\"ticker\":{\"id\":\"2234\"}},\"id\":\"2233\",\"type\":\"LinearAxis\"},{\"attributes\":{\"line_alpha\":0.2,\"line_color\":\"#e5ae38\",\"line_width\":2,\"x\":{\"field\":\"Threshold(%)\"},\"y\":{\"field\":\"value\"}},\"id\":\"2308\",\"type\":\"Line\"},{\"attributes\":{},\"id\":\"2245\",\"type\":\"ResetTool\"},{\"attributes\":{\"source\":{\"id\":\"2303\"}},\"id\":\"2310\",\"type\":\"CDSView\"},{\"attributes\":{\"callback\":null,\"renderers\":[{\"id\":\"2266\"},{\"id\":\"2287\"},{\"id\":\"2309\"}],\"tags\":[\"hv_created\"],\"tooltips\":[[\"Variable\",\"@{Variable}\"],[\"Threshold(%)\",\"@{Threshold_left_parenthesis_percent_right_parenthesis}\"],[\"value\",\"@{value}\"]]},\"id\":\"2221\",\"type\":\"HoverTool\"},{\"attributes\":{},\"id\":\"2258\",\"type\":\"BasicTickFormatter\"},{\"attributes\":{\"margin\":[5,5,5,5],\"name\":\"HSpacer02638\",\"sizing_mode\":\"stretch_width\"},\"id\":\"2341\",\"type\":\"Spacer\"},{\"attributes\":{},\"id\":\"2259\",\"type\":\"AllLabels\"},{\"attributes\":{\"bottom_units\":\"screen\",\"coordinates\":null,\"fill_alpha\":0.5,\"fill_color\":\"lightgrey\",\"group\":null,\"left_units\":\"screen\",\"level\":\"overlay\",\"line_alpha\":1.0,\"line_color\":\"black\",\"line_dash\":[4,4],\"line_width\":2,\"right_units\":\"screen\",\"syncable\":false,\"top_units\":\"screen\"},\"id\":\"2246\",\"type\":\"BoxAnnotation\"},{\"attributes\":{\"coordinates\":null,\"data_source\":{\"id\":\"2303\"},\"glyph\":{\"id\":\"2306\"},\"group\":null,\"hover_glyph\":null,\"muted_glyph\":{\"id\":\"2308\"},\"nonselection_glyph\":{\"id\":\"2307\"},\"selection_glyph\":{\"id\":\"2326\"},\"view\":{\"id\":\"2310\"}},\"id\":\"2309\",\"type\":\"GlyphRenderer\"},{\"attributes\":{\"label\":{\"value\":\"Recall\"},\"renderers\":[{\"id\":\"2309\"}]},\"id\":\"2325\",\"type\":\"LegendItem\"},{\"attributes\":{\"tools\":[{\"id\":\"2221\"},{\"id\":\"2241\"},{\"id\":\"2242\"},{\"id\":\"2243\"},{\"id\":\"2244\"},{\"id\":\"2245\"}]},\"id\":\"2247\",\"type\":\"Toolbar\"},{\"attributes\":{\"coordinates\":null,\"data_source\":{\"id\":\"2281\"},\"glyph\":{\"id\":\"2284\"},\"group\":null,\"hover_glyph\":null,\"muted_glyph\":{\"id\":\"2286\"},\"nonselection_glyph\":{\"id\":\"2285\"},\"selection_glyph\":{\"id\":\"2302\"},\"view\":{\"id\":\"2288\"}},\"id\":\"2287\",\"type\":\"GlyphRenderer\"},{\"attributes\":{\"source\":{\"id\":\"2260\"}},\"id\":\"2267\",\"type\":\"CDSView\"},{\"attributes\":{},\"id\":\"2322\",\"type\":\"UnionRenderers\"},{\"attributes\":{\"line_alpha\":0.1,\"line_color\":\"#30a2da\",\"line_width\":2,\"x\":{\"field\":\"Threshold(%)\"},\"y\":{\"field\":\"value\"}},\"id\":\"2264\",\"type\":\"Line\"},{\"attributes\":{},\"id\":\"2275\",\"type\":\"UnionRenderers\"},{\"attributes\":{\"source\":{\"id\":\"2281\"}},\"id\":\"2288\",\"type\":\"CDSView\"},{\"attributes\":{\"line_color\":\"#30a2da\",\"line_width\":2,\"x\":{\"field\":\"Threshold(%)\"},\"y\":{\"field\":\"value\"}},\"id\":\"2263\",\"type\":\"Line\"},{\"attributes\":{\"data\":{\"Threshold(%)\":{\"__ndarray__\":\"AAAAAAAASUAAAAAAAIBLQAAAAAAAAE5AAAAAAABAUEAAAAAAAIBRQAAAAAAAwFJAAAAAAAAAVEAAAAAAAEBVQAAAAAAAgFZAAAAAAADAV0A=\",\"dtype\":\"float64\",\"order\":\"little\",\"shape\":[10]},\"Threshold_left_parenthesis_percent_right_parenthesis\":{\"__ndarray__\":\"AAAAAAAASUAAAAAAAIBLQAAAAAAAAE5AAAAAAABAUEAAAAAAAIBRQAAAAAAAwFJAAAAAAAAAVEAAAAAAAEBVQAAAAAAAgFZAAAAAAADAV0A=\",\"dtype\":\"float64\",\"order\":\"little\",\"shape\":[10]},\"Variable\":[\"Accuracy\",\"Accuracy\",\"Accuracy\",\"Accuracy\",\"Accuracy\",\"Accuracy\",\"Accuracy\",\"Accuracy\",\"Accuracy\",\"Accuracy\"],\"value\":{\"__ndarray__\":\"YpwvmuFI6z87rYUJUmDrP3ExWyUuZus/9pOEYik96z8FKbDtdVrrP0pCsZSefes/iYvZKnEx6z/q89JAfV7qPyGSwx5Ecug/A2hsCKs36D8=\",\"dtype\":\"float64\",\"order\":\"little\",\"shape\":[10]}},\"selected\":{\"id\":\"2282\"},\"selection_policy\":{\"id\":\"2298\"}},\"id\":\"2281\",\"type\":\"ColumnDataSource\"},{\"attributes\":{\"line_alpha\":0.2,\"line_color\":\"#30a2da\",\"line_width\":2,\"x\":{\"field\":\"Threshold(%)\"},\"y\":{\"field\":\"value\"}},\"id\":\"2265\",\"type\":\"Line\"},{\"attributes\":{\"label\":{\"value\":\"Precision\"},\"renderers\":[{\"id\":\"2266\"}]},\"id\":\"2279\",\"type\":\"LegendItem\"},{\"attributes\":{\"end\":95.0,\"reset_end\":95.0,\"reset_start\":50.0,\"start\":50.0,\"tags\":[[[\"Threshold(%)\",\"Threshold(%)\",null]]]},\"id\":\"2219\",\"type\":\"Range1d\"},{\"attributes\":{\"coordinates\":null,\"data_source\":{\"id\":\"2260\"},\"glyph\":{\"id\":\"2263\"},\"group\":null,\"hover_glyph\":null,\"muted_glyph\":{\"id\":\"2265\"},\"nonselection_glyph\":{\"id\":\"2264\"},\"selection_glyph\":{\"id\":\"2280\"},\"view\":{\"id\":\"2267\"}},\"id\":\"2266\",\"type\":\"GlyphRenderer\"},{\"attributes\":{\"data\":{\"Threshold(%)\":{\"__ndarray__\":\"AAAAAAAASUAAAAAAAIBLQAAAAAAAAE5AAAAAAABAUEAAAAAAAIBRQAAAAAAAwFJAAAAAAAAAVEAAAAAAAEBVQAAAAAAAgFZAAAAAAADAV0A=\",\"dtype\":\"float64\",\"order\":\"little\",\"shape\":[10]},\"Threshold_left_parenthesis_percent_right_parenthesis\":{\"__ndarray__\":\"AAAAAAAASUAAAAAAAIBLQAAAAAAAAE5AAAAAAABAUEAAAAAAAIBRQAAAAAAAwFJAAAAAAAAAVEAAAAAAAEBVQAAAAAAAgFZAAAAAAADAV0A=\",\"dtype\":\"float64\",\"order\":\"little\",\"shape\":[10]},\"Variable\":[\"Recall\",\"Recall\",\"Recall\",\"Recall\",\"Recall\",\"Recall\",\"Recall\",\"Recall\",\"Recall\",\"Recall\"],\"value\":{\"__ndarray__\":\"/aPbmILQ7z/6R7cxBaHvP/EzSvyMEu8/2VMnw6GW7T/G/bqk8mHsP6UJKzaPV+o/dBtTEPpH5z/klSas2DzeP6vBcwSKtro/KfEzSvyMsj8=\",\"dtype\":\"float64\",\"order\":\"little\",\"shape\":[10]}},\"selected\":{\"id\":\"2304\"},\"selection_policy\":{\"id\":\"2322\"}},\"id\":\"2303\",\"type\":\"ColumnDataSource\"},{\"attributes\":{},\"id\":\"2229\",\"type\":\"LinearScale\"},{\"attributes\":{\"below\":[{\"id\":\"2233\"}],\"center\":[{\"id\":\"2236\"},{\"id\":\"2240\"}],\"height\":300,\"left\":[{\"id\":\"2237\"}],\"margin\":[5,5,5,5],\"min_border_bottom\":10,\"min_border_left\":10,\"min_border_right\":10,\"min_border_top\":10,\"renderers\":[{\"id\":\"2266\"},{\"id\":\"2287\"},{\"id\":\"2309\"}],\"right\":[{\"id\":\"2278\"}],\"sizing_mode\":\"fixed\",\"title\":{\"id\":\"2225\"},\"toolbar\":{\"id\":\"2247\"},\"width\":700,\"x_range\":{\"id\":\"2219\"},\"x_scale\":{\"id\":\"2229\"},\"y_range\":{\"id\":\"2220\"},\"y_scale\":{\"id\":\"2231\"}},\"id\":\"2224\",\"subtype\":\"Figure\",\"type\":\"Plot\"},{\"attributes\":{},\"id\":\"2282\",\"type\":\"Selection\"},{\"attributes\":{\"click_policy\":\"mute\",\"coordinates\":null,\"group\":null,\"items\":[{\"id\":\"2279\"},{\"id\":\"2301\"},{\"id\":\"2325\"}],\"location\":[0,0],\"title\":\"Variable\"},\"id\":\"2278\",\"type\":\"Legend\"},{\"attributes\":{\"line_color\":\"#30a2da\",\"line_width\":2,\"x\":{\"field\":\"Threshold(%)\"},\"y\":{\"field\":\"value\"}},\"id\":\"2280\",\"type\":\"Line\"},{\"attributes\":{\"children\":[{\"id\":\"2218\"},{\"id\":\"2224\"},{\"id\":\"2341\"}],\"margin\":[0,0,0,0],\"name\":\"Row02633\",\"tags\":[\"embedded\"]},\"id\":\"2217\",\"type\":\"Row\"},{\"attributes\":{\"margin\":[5,5,5,5],\"name\":\"HSpacer02637\",\"sizing_mode\":\"stretch_width\"},\"id\":\"2218\",\"type\":\"Spacer\"}],\"root_ids\":[\"2217\"]},\"title\":\"Bokeh Application\",\"version\":\"2.4.3\"}};\n",
       "    var render_items = [{\"docid\":\"46931ae2-d32e-4ff9-a69e-13cf28aa9450\",\"root_ids\":[\"2217\"],\"roots\":{\"2217\":\"52110ca5-6cc8-41d7-b0ff-6aed3e3f53a1\"}}];\n",
       "    root.Bokeh.embed.embed_items_notebook(docs_json, render_items);\n",
       "    for (const render_item of render_items) {\n",
       "      for (const root_id of render_item.root_ids) {\n",
       "\tconst id_el = document.getElementById(root_id)\n",
       "\tif (id_el.children.length && (id_el.children[0].className === 'bk-root')) {\n",
       "\t  const root_el = id_el.children[0]\n",
       "\t  root_el.id = root_el.id + '-rendered'\n",
       "\t}\n",
       "      }\n",
       "    }\n",
       "  }\n",
       "  if (root.Bokeh !== undefined && root.Bokeh.Panel !== undefined) {\n",
       "    embed_document(root);\n",
       "  } else {\n",
       "    var attempts = 0;\n",
       "    var timer = setInterval(function(root) {\n",
       "      if (root.Bokeh !== undefined && root.Bokeh.Panel !== undefined) {\n",
       "        clearInterval(timer);\n",
       "        embed_document(root);\n",
       "      } else if (document.readyState == \"complete\") {\n",
       "        attempts++;\n",
       "        if (attempts > 200) {\n",
       "          clearInterval(timer);\n",
       "          console.log(\"Bokeh: ERROR: Unable to run BokehJS code because BokehJS library is missing\");\n",
       "        }\n",
       "      }\n",
       "    }, 25, root)\n",
       "  }\n",
       "})(window);</script>"
      ],
      "text/plain": [
       ":NdOverlay   [Variable]\n",
       "   :Curve   [Threshold(%)]   (value)"
      ]
     },
     "execution_count": 140,
     "metadata": {
      "application/vnd.holoviews_exec.v0+json": {
       "id": "2217"
      }
     },
     "output_type": "execute_result"
    }
   ],
   "source": [
    "# Changing threshold to improve precision\n",
    "\n",
    "metrics_df = pd.DataFrame(columns=['Threshold', 'Precision', 'Accuracy', 'Recall'])\n",
    "\n",
    "for threshold in range(50,99,5):\n",
    "    # Predict probabilities for the test data\n",
    "    y_proba = logreg.predict_proba(X_test)\n",
    "\n",
    "    # Adjust the decision threshold\n",
    "    y_pred = (y_proba[:, 1] >= threshold/100).astype(int)\n",
    "\n",
    "    precision = precision_score(y_test, y_pred)\n",
    "    accuracy = accuracy_score(y_test, y_pred)\n",
    "    recall = recall_score(y_test, y_pred)\n",
    "    \n",
    "    metrics = pd.DataFrame({'Threshold(%)': [threshold],\n",
    "                        'Precision': [precision],\n",
    "                        'Accuracy': [accuracy],\n",
    "                        'Recall': [recall]})\n",
    "\n",
    "    # Append the metrics to the DataFrame\n",
    "    metrics_df = pd. concat([metrics_df, metrics], ignore_index=True)\n",
    "    \n",
    "metrics_df.hvplot(y=['Precision', 'Accuracy', 'Recall'], x='Threshold(%)',\n",
    "                 title=\"Metrics depending on the Probability Threshold to Set the Success\")"
   ]
  },
  {
   "cell_type": "code",
   "execution_count": 144,
   "id": "774505e9-2597-4c78-a44c-ba44b82b2ed2",
   "metadata": {},
   "outputs": [
    {
     "name": "stdout",
     "output_type": "stream",
     "text": [
      "Confusion Matrix on Change (Positive or Negative) Applying Clustering.\n",
      "Changes labeled as 1 only if outside the compliant cLuster\n",
      "Probability Threshold: 0.75\n"
     ]
    },
    {
     "data": {
      "text/plain": [
       "array([[917, 136],\n",
       "       [ 61, 284]])"
      ]
     },
     "execution_count": 144,
     "metadata": {},
     "output_type": "execute_result"
    }
   ],
   "source": [
    "print(\"Confusion Matrix on Change (Positive or Negative) Applying Clustering.\")\n",
    "print(\"Changes labeled as 1 only if outside the compliant cLuster\")\n",
    "print(f\"Probability Threshold: {threshold}\")\n",
    "confusion_matrix(y_test, y_pred)"
   ]
  },
  {
   "cell_type": "markdown",
   "id": "21e4e655-6ec4-413e-a605-9b16ec0df632",
   "metadata": {},
   "source": [
    "**Conclusion**: it is hard to improve precision. I tried it by increasing the probability threshold for which  prediction is set to 1.\n",
    "I tried several values starting in .50 al the way to 99, and found that around .75 increases precision, but by a few percentages."
   ]
  },
  {
   "cell_type": "code",
   "execution_count": null,
   "id": "5cd64118-837e-4011-8e32-0e8f630ad6b1",
   "metadata": {},
   "outputs": [],
   "source": []
  }
 ],
 "metadata": {
  "kernelspec": {
   "display_name": "Python 3 (ipykernel)",
   "language": "python",
   "name": "python3"
  },
  "language_info": {
   "codemirror_mode": {
    "name": "ipython",
    "version": 3
   },
   "file_extension": ".py",
   "mimetype": "text/x-python",
   "name": "python",
   "nbconvert_exporter": "python",
   "pygments_lexer": "ipython3",
   "version": "3.9.13"
  }
 },
 "nbformat": 4,
 "nbformat_minor": 5
}
