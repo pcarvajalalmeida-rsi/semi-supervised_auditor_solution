{
 "cells": [
  {
   "cell_type": "markdown",
   "id": "e27753ae-cfe5-4b6b-b05a-102cc73ea6a2",
   "metadata": {},
   "source": [
    "# Audit Extension\n",
    "\n",
    "This notebook has the calculation of audit caracteristics from the database. It combines the excelsheet with the SIM data.\n",
    "It also calculates percentiles global and internal industry, and store it extending the q_industries, and then store it in the memory.\n",
    "\n",
    "At the bottom, this notebook constructs the q_industries data, which are selected industries with quarterly frequency.\n",
    "\n"
   ]
  },
  {
   "cell_type": "code",
   "execution_count": 3,
   "id": "979c0051-2ccc-4cb1-b555-9fb4ba565828",
   "metadata": {},
   "outputs": [
    {
     "ename": "ModuleNotFoundError",
     "evalue": "No module named 'dstools.mlutils.corp_tax_sea_audits_treatment'",
     "output_type": "error",
     "traceback": [
      "\u001b[0;31m---------------------------------------------------------------------------\u001b[0m",
      "\u001b[0;31mModuleNotFoundError\u001b[0m                       Traceback (most recent call last)",
      "Cell \u001b[0;32mIn [3], line 9\u001b[0m\n\u001b[1;32m      2\u001b[0m \u001b[38;5;28;01mimport\u001b[39;00m \u001b[38;5;21;01mnumpy\u001b[39;00m \u001b[38;5;28;01mas\u001b[39;00m \u001b[38;5;21;01mnp\u001b[39;00m\n\u001b[1;32m      3\u001b[0m \u001b[38;5;28;01mfrom\u001b[39;00m \u001b[38;5;21;01mdstools\u001b[39;00m\u001b[38;5;21;01m.\u001b[39;00m\u001b[38;5;21;01mmlutils\u001b[39;00m\u001b[38;5;21;01m.\u001b[39;00m\u001b[38;5;21;01mcorp_tax_audit_unsupervised\u001b[39;00m \u001b[38;5;28;01mimport\u001b[39;00m (\n\u001b[1;32m      4\u001b[0m                     apply_time_index_from_Y_and_Q, \n\u001b[1;32m      5\u001b[0m                     load_industry_data, \n\u001b[1;32m      6\u001b[0m                     clean_data\n\u001b[1;32m      7\u001b[0m )\n\u001b[0;32m----> 9\u001b[0m \u001b[38;5;28;01mfrom\u001b[39;00m \u001b[38;5;21;01mdstools\u001b[39;00m\u001b[38;5;21;01m.\u001b[39;00m\u001b[38;5;21;01mmlutils\u001b[39;00m\u001b[38;5;21;01m.\u001b[39;00m\u001b[38;5;21;01mcorp_tax_sea_audits_treatment\u001b[39;00m \u001b[38;5;28;01mimport\u001b[39;00m (apply_format_filtering_and_change_status,\n\u001b[1;32m     10\u001b[0m                                                            get_number_of_quarters_between_dates,\n\u001b[1;32m     11\u001b[0m                                                            create_nquarter_list_between_dates\n\u001b[1;32m     12\u001b[0m                                                           )\n",
      "\u001b[0;31mModuleNotFoundError\u001b[0m: No module named 'dstools.mlutils.corp_tax_sea_audits_treatment'"
     ]
    }
   ],
   "source": [
    "import pandas as pd\n",
    "import numpy as np\n",
    "from dstools.mlutils.corp_tax_audit_unsupervised import (\n",
    "                    apply_time_index_from_Y_and_Q, \n",
    "                    load_industry_data, \n",
    "                    clean_data\n",
    ")\n",
    "\n",
    "from dstools.mlutils.corp_tax_sea_audits_treatment import (apply_format_filtering_and_change_status,\n",
    "                                                           get_number_of_quarters_between_dates,\n",
    "                                                           create_nquarter_list_between_dates\n",
    "                                                          )"
   ]
  },
  {
   "cell_type": "code",
   "execution_count": null,
   "id": "ff61e834-9b10-489a-b229-9af21591d2fd",
   "metadata": {},
   "outputs": [],
   "source": [
    "# %store"
   ]
  },
  {
   "cell_type": "markdown",
   "id": "4439d45b-dbf8-4de1-beaa-fa27bc2276cd",
   "metadata": {},
   "source": [
    "# Preparing the merging of audits"
   ]
  },
  {
   "cell_type": "code",
   "execution_count": null,
   "id": "e750c94f-0f4a-4214-9aef-b1dd8cb3ef81",
   "metadata": {},
   "outputs": [],
   "source": [
    "# Restoring percentile classified SLIM data\n",
    "%store -r q_industries\n",
    "q_industries.columns"
   ]
  },
  {
   "cell_type": "raw",
   "id": "f95aa2aa-dfcd-4f29-8091-fc1505127e5e",
   "metadata": {},
   "source": [
    "%store -r q_audit_data_combined"
   ]
  },
  {
   "cell_type": "code",
   "execution_count": null,
   "id": "126ff9ee-5520-4aa4-a4fc-e6a857cc7535",
   "metadata": {},
   "outputs": [],
   "source": [
    "naics_codes = list(q_industries['naics2'].unique())\n",
    "naics_codes"
   ]
  },
  {
   "cell_type": "code",
   "execution_count": null,
   "id": "b901c4cd-da1e-4a99-a327-126e831732ad",
   "metadata": {},
   "outputs": [],
   "source": [
    "#delete\n",
    "audit_data.head()"
   ]
  },
  {
   "cell_type": "code",
   "execution_count": null,
   "id": "dfb5f831-fb13-4df8-97d4-3e48d199eb48",
   "metadata": {
    "tags": []
   },
   "outputs": [],
   "source": [
    "# PREPARE THE DATA freq = Q\n",
    "# Monthly has been excluded because is much less data, and less audits\n",
    "# code from similarity_score_research.ipynb\n",
    "path_audit_data ='~/paola_notebooks/Unsupervised_Analysis/Resources/SEA-audit-labeled-cit-cleaned-with-periods.csv'\n",
    "audit_threshold = 500\n",
    "\n",
    "# Audit Data - reformatting to be able to merge with unsupervised dataset\n",
    "#naics = naics_code_used\n",
    "# Loading the clean audit data\n",
    "audit_data = pd.read_csv(path_audit_data, parse_dates = True, infer_datetime_format=True)\n",
    "\n",
    "# Adding succesful status, plus format changes to sync with sqldata, plus filtering by industry\n",
    "audit_data = apply_format_filtering_and_change_status(audit_data_from_csv = audit_data, naics_code_used = None,  audit_threshold = audit_threshold)\n",
    "\n",
    "## Adding period lenght by number of quarters\n",
    "audit_data['nquarters'] = get_number_of_quarters_between_dates(audit_data, first_period_col = 'first_period', last_period_col='last_period')\n",
    "\n",
    "## Generating new index for the audit data\n",
    "pro_index_df = create_nquarter_list_between_dates(df=audit_data, start_column = 'first_period', end_column='last_period' )\n",
    "\n",
    "## Meging new index to the audit data\n",
    "audit_data_ext = pro_index_df.merge(audit_data, left_on=['original_index'], right_index=True, how='outer', copy=True)\n",
    "audit_data_ext.index = pd.PeriodIndex(audit_data_ext.date, freq='Q')\n",
    "audit_data_ext.drop(columns=['date'], inplace=True)\n",
    "\n",
    "audit_data_ext.head()"
   ]
  },
  {
   "cell_type": "code",
   "execution_count": 6,
   "id": "13d5d893-68b4-43b7-bfe6-9056126d8c79",
   "metadata": {
    "tags": []
   },
   "outputs": [
    {
     "name": "stdout",
     "output_type": "stream",
     "text": [
      "Quarterly companies\n"
     ]
    },
    {
     "ename": "NameError",
     "evalue": "name 'audit_data_ext' is not defined",
     "output_type": "error",
     "traceback": [
      "\u001b[0;31m---------------------------------------------------------------------------\u001b[0m",
      "\u001b[0;31mNameError\u001b[0m                                 Traceback (most recent call last)",
      "Cell \u001b[0;32mIn [6], line 3\u001b[0m\n\u001b[1;32m      1\u001b[0m \u001b[38;5;66;03m# Q - OBTAIN THE AUDIT DATA WITH COMBINED FEATURES, BUT ONLY AUDIT DATA\u001b[39;00m\n\u001b[1;32m      2\u001b[0m \u001b[38;5;28mprint\u001b[39m(\u001b[38;5;124m\"\u001b[39m\u001b[38;5;124mQuarterly companies\u001b[39m\u001b[38;5;124m\"\u001b[39m)\n\u001b[0;32m----> 3\u001b[0m audit_data_combined \u001b[38;5;241m=\u001b[39m \u001b[43maudit_data_ext\u001b[49m\u001b[38;5;241m.\u001b[39mreset_index()\u001b[38;5;241m.\u001b[39mmerge(q_industries, how\u001b[38;5;241m=\u001b[39m\u001b[38;5;124m'\u001b[39m\u001b[38;5;124mleft\u001b[39m\u001b[38;5;124m'\u001b[39m, on\u001b[38;5;241m=\u001b[39m[\u001b[38;5;124m'\u001b[39m\u001b[38;5;124mdate\u001b[39m\u001b[38;5;124m'\u001b[39m,\u001b[38;5;124m'\u001b[39m\u001b[38;5;124mbusiness_id\u001b[39m\u001b[38;5;124m'\u001b[39m])\n\u001b[1;32m      4\u001b[0m \u001b[38;5;66;03m# print(audit_data_combined.shape)\u001b[39;00m\n\u001b[1;32m      5\u001b[0m \u001b[38;5;66;03m# print(audit_data_combined.isnull().sum())\u001b[39;00m\n\u001b[1;32m      6\u001b[0m \u001b[38;5;66;03m#Filter by naics codes used - naics2 will be strings for the industries\u001b[39;00m\n\u001b[1;32m      7\u001b[0m audit_data_combined \u001b[38;5;241m=\u001b[39m audit_data_combined[audit_data_combined[\u001b[38;5;124m'\u001b[39m\u001b[38;5;124mnaics2\u001b[39m\u001b[38;5;124m'\u001b[39m]\u001b[38;5;241m.\u001b[39misin(naics_codes)]\n",
      "\u001b[0;31mNameError\u001b[0m: name 'audit_data_ext' is not defined"
     ]
    }
   ],
   "source": [
    "# Q - OBTAIN THE AUDIT DATA WITH COMBINED FEATURES, BUT ONLY AUDIT DATA\n",
    "print(\"Quarterly companies\")\n",
    "audit_data_combined = audit_data_ext.reset_index().merge(q_industries, how='left', on=['date','business_id'])\n",
    "# print(audit_data_combined.shape)\n",
    "# print(audit_data_combined.isnull().sum())\n",
    "#Filter by naics codes used - naics2 will be strings for the industries\n",
    "audit_data_combined = audit_data_combined[audit_data_combined['naics2'].isin(naics_codes)]\n",
    "audit_data_combined_clean = audit_data_combined.dropna()\n",
    "print(f\"shape pre-drop:{audit_data_combined['business_id'].unique().shape}\")\n",
    "print(f\"shape after-drop:{audit_data_combined_clean['business_id'].unique().shape}\")\n",
    "\n",
    "audit_business_id = audit_data_combined['business_id'].unique()\n",
    "audit_business_id_change = audit_data_combined[abs(audit_data_combined['assessment_amount'])>500]['business_id'].unique()\n",
    "audit_business_id_pos_change = audit_data_combined[audit_data_combined['assessment_amount']>500]['business_id'].unique()\n",
    "\n",
    "print(f\" Q audited busineses: {len(audit_business_id)}\")\n",
    "print(f\" Q change audit busineses: {len(audit_business_id_change)}\")\n",
    "print(f\" Q positive change audit busineses: {len(audit_business_id_pos_change)}\")\n",
    "\n",
    "audit_business_id_clean = audit_data_combined_clean['business_id'].unique()\n",
    "audit_business_id_change_clean = audit_data_combined_clean[abs(audit_data_combined['assessment_amount'])>500]['business_id'].unique()\n",
    "audit_business_id_pos_change_clean = audit_data_combined_clean[audit_data_combined['assessment_amount']>500]['business_id'].unique()\n",
    "\n",
    "print(f\" Clean audited busineses: {len(audit_business_id_clean)}\")\n",
    "print(f\" Clean change audit busineses: {len(audit_business_id_change_clean)}\")\n",
    "print(f\" Clean positive change audit busineses: {len(audit_business_id_pos_change_clean)}\")"
   ]
  },
  {
   "cell_type": "code",
   "execution_count": null,
   "id": "0c377318-78a3-4786-b2a8-0e850ed26415",
   "metadata": {},
   "outputs": [],
   "source": [
    "q_audit_data_combined = audit_data_combined_clean\n",
    "q_audit_data_combined['eff_tax%_perc_glob'].describe(), q_audit_data_combined['deduc2income_perc_glob'].describe()"
   ]
  },
  {
   "cell_type": "code",
   "execution_count": null,
   "id": "d17016f6-dac5-4d52-96cc-314c673113cc",
   "metadata": {},
   "outputs": [],
   "source": [
    "q_audit_data_combined[['change+','change-','k-cluster_g', 'k-cluster_ind']]\n",
    "q_audit_data_combined[['naics2','change+','change-','k-cluster_g', 'k-cluster_ind']].groupby('naics2').sum()"
   ]
  },
  {
   "cell_type": "code",
   "execution_count": null,
   "id": "3109f84c-b374-49c0-bd61-8a0045e0eec0",
   "metadata": {},
   "outputs": [],
   "source": [
    "type(q_industries['is_ccluster_ind'][0])"
   ]
  },
  {
   "cell_type": "code",
   "execution_count": null,
   "id": "5607fb02-def6-492a-bdaf-3bd0afc936e0",
   "metadata": {},
   "outputs": [],
   "source": [
    "# LABEL OF POSITIVE CHANGES OUTSIDE THE COMPLIANT CLUSTER\n",
    "q_audit_data_combined['ischange+_outside_ccluster_ind'] = ((q_audit_data_combined['change+']) &\n",
    "                                                      (q_audit_data_combined['is_ccluster_ind']==0)\n",
    "                                                      ).astype(int)\n",
    "q_audit_data_combined['ischange+OR-_outside_ccluster_ind'] = ((q_audit_data_combined['change+'] | q_audit_data_combined['change-']) &\n",
    "                                                         (q_audit_data_combined['is_ccluster_ind']==0)\n",
    "                                                        ).astype(int)\n",
    "\n",
    "print(\"Cases with at least one of the positive changes, global or ind, it is outside the compliant cluster\")\n",
    "q_audit_data_combined[(q_audit_data_combined['ischange+_outside_ccluster']+q_audit_data_combined['ischange+OR-_outside_ccluster'])>0]"
   ]
  },
  {
   "cell_type": "code",
   "execution_count": null,
   "id": "366776d8-d4da-4e00-8e84-b66589621855",
   "metadata": {},
   "outputs": [],
   "source": [
    "q_audit_data_combined['ischange+_outside_ccluster'].value_counts()"
   ]
  },
  {
   "cell_type": "code",
   "execution_count": null,
   "id": "55c53728-306c-45cb-9bb9-c23191e1533f",
   "metadata": {},
   "outputs": [],
   "source": [
    "q_audit_data_combined['ischange+OR-_outside_ccluster'].value_counts()"
   ]
  },
  {
   "cell_type": "code",
   "execution_count": null,
   "id": "9fc3364d-4e2b-4e04-8184-0f5823c33b82",
   "metadata": {},
   "outputs": [],
   "source": [
    "# Active from Raw to Code if wanting to update current store\n",
    "%store q_audit_data_combined"
   ]
  },
  {
   "cell_type": "code",
   "execution_count": 5,
   "id": "797c821a-4a37-4edc-bdd4-0536f2fb65fe",
   "metadata": {},
   "outputs": [
    {
     "data": {
      "text/plain": [
       "Index(['date', 'original_index', 'business_id', 'assessment_amount', 'naics_2',\n",
       "       'entity_name', 'first_period', 'last_period', 'change', 'change+',\n",
       "       'change-', 'nquarters', 'index', 'naics2', 'bus_loc_id', 'naics_code',\n",
       "       'business_legal_name', 'maxNumLoc', 'tax_period_cd', 'obl_type_id',\n",
       "       'sumsum_gross', 'sumsum_deduc', 'sumsum_taxable', 'sumsum_paid',\n",
       "       'eff_tax_rate%', 'deduc_to_income_ratio', 'eff_tax%_perc_glob',\n",
       "       'eff_tax%_perc_ind', 'deduc2income_perc_glob', 'deduc2income_perc_ind',\n",
       "       '4Delta_abs_eff_tax_rate%', '4Delta_abs_deduc_to_income_ratio',\n",
       "       '4D_eff_tax%_perc_glob', '4D_deduc2income_perc_glob',\n",
       "       '4D_eff_tax_perc_ind', '4D_deduc2income_perc_ind', 'k-cluster_ind',\n",
       "       'k-cluster_g', 'sumsum_gross_perc_glob', 'sumsum_gross_perc_ind',\n",
       "       'ischange+_outside_ccluster', 'ischange+OR-_outside_ccluster',\n",
       "       'is_ccluster_ind', 'is_ccluster_g', 'ischange+_outside_ccluster_ind',\n",
       "       'ischange+OR-_outside_ccluster_ind'],\n",
       "      dtype='object')"
      ]
     },
     "execution_count": 5,
     "metadata": {},
     "output_type": "execute_result"
    }
   ],
   "source": [
    "q_audit_data_combined.columns\n",
    "#IT DOESN'T NEED DATE INDEX"
   ]
  },
  {
   "cell_type": "code",
   "execution_count": 10,
   "id": "1745c735-0b97-4996-a8b5-d551de2bd80b",
   "metadata": {},
   "outputs": [
    {
     "data": {
      "text/plain": [
       "Index(['index', 'naics2', 'business_id', 'bus_loc_id', 'naics_code',\n",
       "       'business_legal_name', 'maxNumLoc', 'tax_period_cd', 'obl_type_id',\n",
       "       'sumsum_gross', 'sumsum_deduc', 'sumsum_taxable', 'sumsum_paid',\n",
       "       'eff_tax_rate%', 'deduc_to_income_ratio', 'eff_tax%_perc_glob',\n",
       "       'eff_tax%_perc_ind', 'deduc2income_perc_glob', 'deduc2income_perc_ind',\n",
       "       '4Delta_abs_eff_tax_rate%', '4Delta_abs_deduc_to_income_ratio',\n",
       "       '4D_eff_tax%_perc_glob', '4D_deduc2income_perc_glob',\n",
       "       '4D_eff_tax_perc_ind', '4D_deduc2income_perc_ind', 'k-cluster_ind',\n",
       "       'k-cluster_g', 'sumsum_gross_perc_glob', 'sumsum_gross_perc_ind',\n",
       "       'is_ccluster_ind', 'is_ccluster_g', 'max_outlier_score', 'hd-cluster',\n",
       "       'out_of_compliance', 'prop_outside_compliant_cluster'],\n",
       "      dtype='object')"
      ]
     },
     "execution_count": 10,
     "metadata": {},
     "output_type": "execute_result"
    }
   ],
   "source": [
    "%store -r q_industries\n",
    "q_industries.columns"
   ]
  },
  {
   "cell_type": "markdown",
   "id": "9087a69b-a055-4484-91a8-5b6d41340c05",
   "metadata": {},
   "source": [
    "# Adding new features to existing q_audit_data_combined"
   ]
  },
  {
   "cell_type": "code",
   "execution_count": 20,
   "id": "96d7613b-3164-44c6-9935-34188d76ddd0",
   "metadata": {},
   "outputs": [],
   "source": [
    "# Adding new features to existing audit_data_combined\n",
    "q_audit_data_combined = q_audit_data_combined.reset_index().merge(q_industries.reset_index(drop=True)[['date','business_id','out_of_compliance', 'prop_outside_compliant_cluster']], how='left', on=['date','business_id'])"
   ]
  },
  {
   "cell_type": "code",
   "execution_count": 23,
   "id": "28f1b186-372d-463f-82f2-47f3b1d5821a",
   "metadata": {},
   "outputs": [
    {
     "data": {
      "text/html": [
       "<div>\n",
       "<style scoped>\n",
       "    .dataframe tbody tr th:only-of-type {\n",
       "        vertical-align: middle;\n",
       "    }\n",
       "\n",
       "    .dataframe tbody tr th {\n",
       "        vertical-align: top;\n",
       "    }\n",
       "\n",
       "    .dataframe thead th {\n",
       "        text-align: right;\n",
       "    }\n",
       "</style>\n",
       "<table border=\"1\" class=\"dataframe\">\n",
       "  <thead>\n",
       "    <tr style=\"text-align: right;\">\n",
       "      <th></th>\n",
       "      <th>assessment_amount</th>\n",
       "      <th>naics_2</th>\n",
       "      <th>nquarters</th>\n",
       "      <th>bus_loc_id</th>\n",
       "      <th>maxNumLoc</th>\n",
       "      <th>obl_type_id</th>\n",
       "      <th>sumsum_gross</th>\n",
       "      <th>sumsum_deduc</th>\n",
       "      <th>sumsum_taxable</th>\n",
       "      <th>sumsum_paid</th>\n",
       "      <th>...</th>\n",
       "      <th>sumsum_gross_perc_glob</th>\n",
       "      <th>sumsum_gross_perc_ind</th>\n",
       "      <th>ischange+_outside_ccluster</th>\n",
       "      <th>ischange+OR-_outside_ccluster</th>\n",
       "      <th>is_ccluster_ind</th>\n",
       "      <th>is_ccluster_g</th>\n",
       "      <th>ischange+_outside_ccluster_ind</th>\n",
       "      <th>ischange+OR-_outside_ccluster_ind</th>\n",
       "      <th>out_of_compliance</th>\n",
       "      <th>prop_outside_compliant_cluster</th>\n",
       "    </tr>\n",
       "  </thead>\n",
       "  <tbody>\n",
       "    <tr>\n",
       "      <th>count</th>\n",
       "      <td>7121.000000</td>\n",
       "      <td>7121.000000</td>\n",
       "      <td>7121.000000</td>\n",
       "      <td>7121.000000</td>\n",
       "      <td>7121.000000</td>\n",
       "      <td>7121.000000</td>\n",
       "      <td>7.121000e+03</td>\n",
       "      <td>7.121000e+03</td>\n",
       "      <td>7.121000e+03</td>\n",
       "      <td>7121.000000</td>\n",
       "      <td>...</td>\n",
       "      <td>7121.000000</td>\n",
       "      <td>7121.000000</td>\n",
       "      <td>7121.000000</td>\n",
       "      <td>7121.000000</td>\n",
       "      <td>7121.000000</td>\n",
       "      <td>7121.000000</td>\n",
       "      <td>7121.000000</td>\n",
       "      <td>7121.000000</td>\n",
       "      <td>7121.000000</td>\n",
       "      <td>7121.000000</td>\n",
       "    </tr>\n",
       "    <tr>\n",
       "      <th>mean</th>\n",
       "      <td>2298.473467</td>\n",
       "      <td>44.103497</td>\n",
       "      <td>17.144502</td>\n",
       "      <td>412627.426204</td>\n",
       "      <td>3.382952</td>\n",
       "      <td>11.474091</td>\n",
       "      <td>1.324280e+07</td>\n",
       "      <td>7.170300e+06</td>\n",
       "      <td>6.072499e+06</td>\n",
       "      <td>18104.206126</td>\n",
       "      <td>...</td>\n",
       "      <td>0.833783</td>\n",
       "      <td>0.819696</td>\n",
       "      <td>0.173992</td>\n",
       "      <td>0.248139</td>\n",
       "      <td>0.591490</td>\n",
       "      <td>0.462575</td>\n",
       "      <td>0.173992</td>\n",
       "      <td>0.248139</td>\n",
       "      <td>0.408510</td>\n",
       "      <td>0.344079</td>\n",
       "    </tr>\n",
       "    <tr>\n",
       "      <th>std</th>\n",
       "      <td>61287.288645</td>\n",
       "      <td>15.610609</td>\n",
       "      <td>4.094877</td>\n",
       "      <td>254147.627052</td>\n",
       "      <td>29.138652</td>\n",
       "      <td>13.211894</td>\n",
       "      <td>4.275994e+07</td>\n",
       "      <td>3.839353e+07</td>\n",
       "      <td>1.430325e+07</td>\n",
       "      <td>38716.081157</td>\n",
       "      <td>...</td>\n",
       "      <td>0.220070</td>\n",
       "      <td>0.224203</td>\n",
       "      <td>0.379130</td>\n",
       "      <td>0.431963</td>\n",
       "      <td>0.491593</td>\n",
       "      <td>0.498632</td>\n",
       "      <td>0.379130</td>\n",
       "      <td>0.431963</td>\n",
       "      <td>0.491593</td>\n",
       "      <td>0.364497</td>\n",
       "    </tr>\n",
       "    <tr>\n",
       "      <th>min</th>\n",
       "      <td>-558940.010000</td>\n",
       "      <td>23.000000</td>\n",
       "      <td>1.000000</td>\n",
       "      <td>118.000000</td>\n",
       "      <td>1.000000</td>\n",
       "      <td>10.000000</td>\n",
       "      <td>1.469730e+03</td>\n",
       "      <td>0.000000e+00</td>\n",
       "      <td>0.000000e+00</td>\n",
       "      <td>0.000000</td>\n",
       "      <td>...</td>\n",
       "      <td>0.001267</td>\n",
       "      <td>0.000368</td>\n",
       "      <td>0.000000</td>\n",
       "      <td>0.000000</td>\n",
       "      <td>0.000000</td>\n",
       "      <td>0.000000</td>\n",
       "      <td>0.000000</td>\n",
       "      <td>0.000000</td>\n",
       "      <td>0.000000</td>\n",
       "      <td>0.000000</td>\n",
       "    </tr>\n",
       "    <tr>\n",
       "      <th>25%</th>\n",
       "      <td>0.000000</td>\n",
       "      <td>33.000000</td>\n",
       "      <td>16.000000</td>\n",
       "      <td>139671.000000</td>\n",
       "      <td>1.000000</td>\n",
       "      <td>10.000000</td>\n",
       "      <td>9.501320e+05</td>\n",
       "      <td>0.000000e+00</td>\n",
       "      <td>3.317057e+05</td>\n",
       "      <td>1021.430000</td>\n",
       "      <td>...</td>\n",
       "      <td>0.790723</td>\n",
       "      <td>0.767431</td>\n",
       "      <td>0.000000</td>\n",
       "      <td>0.000000</td>\n",
       "      <td>0.000000</td>\n",
       "      <td>0.000000</td>\n",
       "      <td>0.000000</td>\n",
       "      <td>0.000000</td>\n",
       "      <td>0.000000</td>\n",
       "      <td>0.000000</td>\n",
       "    </tr>\n",
       "    <tr>\n",
       "      <th>50%</th>\n",
       "      <td>208.430000</td>\n",
       "      <td>42.000000</td>\n",
       "      <td>17.000000</td>\n",
       "      <td>546533.000000</td>\n",
       "      <td>1.000000</td>\n",
       "      <td>10.000000</td>\n",
       "      <td>3.177898e+06</td>\n",
       "      <td>2.477300e+04</td>\n",
       "      <td>1.537806e+06</td>\n",
       "      <td>4848.410000</td>\n",
       "      <td>...</td>\n",
       "      <td>0.924779</td>\n",
       "      <td>0.908085</td>\n",
       "      <td>0.000000</td>\n",
       "      <td>0.000000</td>\n",
       "      <td>1.000000</td>\n",
       "      <td>0.000000</td>\n",
       "      <td>0.000000</td>\n",
       "      <td>0.000000</td>\n",
       "      <td>0.000000</td>\n",
       "      <td>0.218391</td>\n",
       "    </tr>\n",
       "    <tr>\n",
       "      <th>75%</th>\n",
       "      <td>5807.820000</td>\n",
       "      <td>54.000000</td>\n",
       "      <td>17.000000</td>\n",
       "      <td>610159.000000</td>\n",
       "      <td>1.000000</td>\n",
       "      <td>10.000000</td>\n",
       "      <td>8.996152e+06</td>\n",
       "      <td>1.884101e+06</td>\n",
       "      <td>5.583790e+06</td>\n",
       "      <td>15803.960000</td>\n",
       "      <td>...</td>\n",
       "      <td>0.974301</td>\n",
       "      <td>0.970754</td>\n",
       "      <td>0.000000</td>\n",
       "      <td>0.000000</td>\n",
       "      <td>1.000000</td>\n",
       "      <td>1.000000</td>\n",
       "      <td>0.000000</td>\n",
       "      <td>0.000000</td>\n",
       "      <td>1.000000</td>\n",
       "      <td>0.656250</td>\n",
       "    </tr>\n",
       "    <tr>\n",
       "      <th>max</th>\n",
       "      <td>374374.310000</td>\n",
       "      <td>81.000000</td>\n",
       "      <td>56.000000</td>\n",
       "      <td>757155.000000</td>\n",
       "      <td>582.000000</td>\n",
       "      <td>133.000000</td>\n",
       "      <td>5.421126e+08</td>\n",
       "      <td>5.395872e+08</td>\n",
       "      <td>1.946442e+08</td>\n",
       "      <td>426731.600000</td>\n",
       "      <td>...</td>\n",
       "      <td>1.000000</td>\n",
       "      <td>1.000000</td>\n",
       "      <td>1.000000</td>\n",
       "      <td>1.000000</td>\n",
       "      <td>1.000000</td>\n",
       "      <td>1.000000</td>\n",
       "      <td>1.000000</td>\n",
       "      <td>1.000000</td>\n",
       "      <td>1.000000</td>\n",
       "      <td>1.000000</td>\n",
       "    </tr>\n",
       "  </tbody>\n",
       "</table>\n",
       "<p>8 rows × 34 columns</p>\n",
       "</div>"
      ],
      "text/plain": [
       "       assessment_amount      naics_2    nquarters     bus_loc_id  \\\n",
       "count        7121.000000  7121.000000  7121.000000    7121.000000   \n",
       "mean         2298.473467    44.103497    17.144502  412627.426204   \n",
       "std         61287.288645    15.610609     4.094877  254147.627052   \n",
       "min       -558940.010000    23.000000     1.000000     118.000000   \n",
       "25%             0.000000    33.000000    16.000000  139671.000000   \n",
       "50%           208.430000    42.000000    17.000000  546533.000000   \n",
       "75%          5807.820000    54.000000    17.000000  610159.000000   \n",
       "max        374374.310000    81.000000    56.000000  757155.000000   \n",
       "\n",
       "         maxNumLoc  obl_type_id  sumsum_gross  sumsum_deduc  sumsum_taxable  \\\n",
       "count  7121.000000  7121.000000  7.121000e+03  7.121000e+03    7.121000e+03   \n",
       "mean      3.382952    11.474091  1.324280e+07  7.170300e+06    6.072499e+06   \n",
       "std      29.138652    13.211894  4.275994e+07  3.839353e+07    1.430325e+07   \n",
       "min       1.000000    10.000000  1.469730e+03  0.000000e+00    0.000000e+00   \n",
       "25%       1.000000    10.000000  9.501320e+05  0.000000e+00    3.317057e+05   \n",
       "50%       1.000000    10.000000  3.177898e+06  2.477300e+04    1.537806e+06   \n",
       "75%       1.000000    10.000000  8.996152e+06  1.884101e+06    5.583790e+06   \n",
       "max     582.000000   133.000000  5.421126e+08  5.395872e+08    1.946442e+08   \n",
       "\n",
       "         sumsum_paid  ...  sumsum_gross_perc_glob  sumsum_gross_perc_ind  \\\n",
       "count    7121.000000  ...             7121.000000            7121.000000   \n",
       "mean    18104.206126  ...                0.833783               0.819696   \n",
       "std     38716.081157  ...                0.220070               0.224203   \n",
       "min         0.000000  ...                0.001267               0.000368   \n",
       "25%      1021.430000  ...                0.790723               0.767431   \n",
       "50%      4848.410000  ...                0.924779               0.908085   \n",
       "75%     15803.960000  ...                0.974301               0.970754   \n",
       "max    426731.600000  ...                1.000000               1.000000   \n",
       "\n",
       "       ischange+_outside_ccluster  ischange+OR-_outside_ccluster  \\\n",
       "count                 7121.000000                    7121.000000   \n",
       "mean                     0.173992                       0.248139   \n",
       "std                      0.379130                       0.431963   \n",
       "min                      0.000000                       0.000000   \n",
       "25%                      0.000000                       0.000000   \n",
       "50%                      0.000000                       0.000000   \n",
       "75%                      0.000000                       0.000000   \n",
       "max                      1.000000                       1.000000   \n",
       "\n",
       "       is_ccluster_ind  is_ccluster_g  ischange+_outside_ccluster_ind  \\\n",
       "count      7121.000000    7121.000000                     7121.000000   \n",
       "mean          0.591490       0.462575                        0.173992   \n",
       "std           0.491593       0.498632                        0.379130   \n",
       "min           0.000000       0.000000                        0.000000   \n",
       "25%           0.000000       0.000000                        0.000000   \n",
       "50%           1.000000       0.000000                        0.000000   \n",
       "75%           1.000000       1.000000                        0.000000   \n",
       "max           1.000000       1.000000                        1.000000   \n",
       "\n",
       "       ischange+OR-_outside_ccluster_ind  out_of_compliance  \\\n",
       "count                        7121.000000        7121.000000   \n",
       "mean                            0.248139           0.408510   \n",
       "std                             0.431963           0.491593   \n",
       "min                             0.000000           0.000000   \n",
       "25%                             0.000000           0.000000   \n",
       "50%                             0.000000           0.000000   \n",
       "75%                             0.000000           1.000000   \n",
       "max                             1.000000           1.000000   \n",
       "\n",
       "       prop_outside_compliant_cluster  \n",
       "count                     7121.000000  \n",
       "mean                         0.344079  \n",
       "std                          0.364497  \n",
       "min                          0.000000  \n",
       "25%                          0.000000  \n",
       "50%                          0.218391  \n",
       "75%                          0.656250  \n",
       "max                          1.000000  \n",
       "\n",
       "[8 rows x 34 columns]"
      ]
     },
     "execution_count": 23,
     "metadata": {},
     "output_type": "execute_result"
    }
   ],
   "source": [
    "q_audit_data_combined.drop(columns = ['level_0','original_index', 'index' ], inplace=True)\n",
    "q_audit_data_combined.describe()"
   ]
  },
  {
   "cell_type": "code",
   "execution_count": 24,
   "id": "10690864-3f59-4a20-affc-7e2310c5fe6a",
   "metadata": {},
   "outputs": [
    {
     "name": "stdout",
     "output_type": "stream",
     "text": [
      "Stored 'q_audit_data_combined' (DataFrame)\n"
     ]
    }
   ],
   "source": [
    "%store q_audit_data_combined"
   ]
  },
  {
   "cell_type": "code",
   "execution_count": null,
   "id": "00262319-6f3e-4d44-9c03-85b8b3cb0353",
   "metadata": {},
   "outputs": [],
   "source": []
  }
 ],
 "metadata": {
  "kernelspec": {
   "display_name": "Python 3 (ipykernel)",
   "language": "python",
   "name": "python3"
  },
  "language_info": {
   "codemirror_mode": {
    "name": "ipython",
    "version": 3
   },
   "file_extension": ".py",
   "mimetype": "text/x-python",
   "name": "python",
   "nbconvert_exporter": "python",
   "pygments_lexer": "ipython3",
   "version": "3.9.13"
  }
 },
 "nbformat": 4,
 "nbformat_minor": 5
}
